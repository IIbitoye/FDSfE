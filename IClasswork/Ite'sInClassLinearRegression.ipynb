{
  "nbformat": 4,
  "nbformat_minor": 0,
  "metadata": {
    "colab": {
      "provenance": [],
      "authorship_tag": "ABX9TyNJeVbYyg5qLMp2r/0w+PQU",
      "include_colab_link": true
    },
    "kernelspec": {
      "name": "python3",
      "display_name": "Python 3"
    },
    "language_info": {
      "name": "python"
    }
  },
  "cells": [
    {
      "cell_type": "markdown",
      "metadata": {
        "id": "view-in-github",
        "colab_type": "text"
      },
      "source": [
        "<a href=\"https://colab.research.google.com/github/IIbitoye/FDSfE_IIbitoye/blob/main/IClasswork/Ite'sInClassLinearRegression.ipynb\" target=\"_parent\"><img src=\"https://colab.research.google.com/assets/colab-badge.svg\" alt=\"Open In Colab\"/></a>"
      ]
    },
    {
      "cell_type": "code",
      "execution_count": 1,
      "metadata": {
        "id": "6hkqIT1QmC_x"
      },
      "outputs": [],
      "source": [
        "import pandas as pd"
      ]
    },
    {
      "cell_type": "code",
      "source": [
        "df = pd.read_csv(\"https://raw.githubusercontent.com/fedhere/PUS2020_FBianco/master/data/walkingsped_Bettencourt07.csv\", \n",
        "                   header=None, names=[\"population\", \"wspeed\"])\n"
      ],
      "metadata": {
        "id": "i2PDuU-rmYWP"
      },
      "execution_count": 2,
      "outputs": []
    },
    {
      "cell_type": "code",
      "source": [
        "df"
      ],
      "metadata": {
        "id": "r-73Qge6mdZH"
      },
      "execution_count": null,
      "outputs": []
    },
    {
      "cell_type": "code",
      "source": [
        "df.plot(\"population\",\"wspeed\",kind=\"scatter\");"
      ],
      "metadata": {
        "id": "TPB-tKMTmnHx"
      },
      "execution_count": null,
      "outputs": []
    },
    {
      "cell_type": "code",
      "source": [
        "import numpy as np"
      ],
      "metadata": {
        "id": "anFDtV7lmyYz"
      },
      "execution_count": 6,
      "outputs": []
    },
    {
      "cell_type": "code",
      "source": [
        "df[\"log_population\"]=np.log10(df[\"population\"])"
      ],
      "metadata": {
        "id": "ETwQ6iJmm0-z"
      },
      "execution_count": 7,
      "outputs": []
    },
    {
      "cell_type": "code",
      "source": [
        "df.plot(\"log_population\",\"wspeed\",kind=\"scatter\");"
      ],
      "metadata": {
        "colab": {
          "base_uri": "https://localhost:8080/",
          "height": 280
        },
        "id": "qxhKo5Dom-Uk",
        "outputId": "27736292-128d-4984-dfcd-ba7b2c8c4535"
      },
      "execution_count": 8,
      "outputs": [
        {
          "output_type": "display_data",
          "data": {
            "text/plain": [
              "<Figure size 432x288 with 1 Axes>"
            ],
            "image/png": "[encoded data removed]"
          },
          "metadata": {
            "needs_background": "light"
          }
        }
      ]
    },
    {
      "cell_type": "markdown",
      "source": [
        "scikit-learn"
      ],
      "metadata": {
        "id": "vKSNt02anv6_"
      }
    },
    {
      "cell_type": "code",
      "source": [
        "from sklearn.linear_model import LinearRegression"
      ],
      "metadata": {
        "id": "AyvaWKi4nrst"
      },
      "execution_count": 9,
      "outputs": []
    },
    {
      "cell_type": "code",
      "source": [
        "#initiate the model"
      ],
      "metadata": {
        "id": "DNJzX1UkoK5T"
      },
      "execution_count": null,
      "outputs": []
    },
    {
      "cell_type": "code",
      "source": [
        "slr=LinearRegression()"
      ],
      "metadata": {
        "id": "cmUhtu6coPOh"
      },
      "execution_count": 10,
      "outputs": []
    },
    {
      "cell_type": "code",
      "source": [
        "#fit the model"
      ],
      "metadata": {
        "id": "joNxauuRok0Q"
      },
      "execution_count": null,
      "outputs": []
    },
    {
      "cell_type": "code",
      "source": [
        "df[\"log_population\"]"
      ],
      "metadata": {
        "colab": {
          "base_uri": "https://localhost:8080/"
        },
        "id": "wO23y_Zlp59K",
        "outputId": "e4d9ab50-267b-4c1e-9139-758bf3498f34"
      },
      "execution_count": 22,
      "outputs": [
        {
          "output_type": "execute_result",
          "data": {
            "text/plain": [
              "0     3.401401\n",
              "1     2.568202\n",
              "2     3.752048\n",
              "3     4.149219\n",
              "4     4.367356\n",
              "5     4.720986\n",
              "6     4.865104\n",
              "7     4.887054\n",
              "8     5.161368\n",
              "9     5.505150\n",
              "10    5.532754\n",
              "11    5.952308\n",
              "12    6.418301\n",
              "13    6.152288\n",
              "14    6.029384\n",
              "Name: log_population, dtype: float64"
            ]
          },
          "metadata": {},
          "execution_count": 22
        }
      ]
    },
    {
      "cell_type": "code",
      "source": [
        "df[\"log_population\"].shape"
      ],
      "metadata": {
        "colab": {
          "base_uri": "https://localhost:8080/"
        },
        "id": "6JH8dmzlp_L7",
        "outputId": "c0f83f20-0c0b-494b-d988-ba31442def65"
      },
      "execution_count": 23,
      "outputs": [
        {
          "output_type": "execute_result",
          "data": {
            "text/plain": [
              "(15,)"
            ]
          },
          "metadata": {},
          "execution_count": 23
        }
      ]
    },
    {
      "cell_type": "code",
      "source": [
        "df[\"log_population\"].values.reshape(-1,1)"
      ],
      "metadata": {
        "id": "Hh4fQthEpNgr"
      },
      "execution_count": null,
      "outputs": []
    },
    {
      "cell_type": "code",
      "source": [
        "logpop=df[\"log_population\"].values.reshape(-1,1)\n",
        "logpop"
      ],
      "metadata": {
        "id": "gIUd83SApfbT"
      },
      "execution_count": null,
      "outputs": []
    },
    {
      "cell_type": "code",
      "source": [
        "logpop.shape"
      ],
      "metadata": {
        "id": "wdrECfptqDRh"
      },
      "execution_count": null,
      "outputs": []
    },
    {
      "cell_type": "code",
      "source": [
        "slr.fit(logpop, df[\"wspeed\"])"
      ],
      "metadata": {
        "id": "kDCQZyiGpobg"
      },
      "execution_count": null,
      "outputs": []
    },
    {
      "cell_type": "code",
      "source": [
        "slr.intercept_"
      ],
      "metadata": {
        "id": "5QdSBvVIptUU"
      },
      "execution_count": null,
      "outputs": []
    },
    {
      "cell_type": "code",
      "source": [
        "slr.coef_"
      ],
      "metadata": {
        "id": "tgn67pdkpwN3"
      },
      "execution_count": null,
      "outputs": []
    },
    {
      "cell_type": "code",
      "source": [
        "slr.coef_[0]"
      ],
      "metadata": {
        "id": "FbjMZmbwqQN0"
      },
      "execution_count": null,
      "outputs": []
    },
    {
      "cell_type": "code",
      "source": [
        "ax=df.plot(\"log_population\",\"wspeed\",kind=\"scatter\");\n",
        "\n",
        "x=np.arange(2.5,6.5,0.1)\n",
        "y=slr.coef_*x + slr.intercept_\n",
        "ax.plot(x,y,label=\"model\");"
      ],
      "metadata": {
        "id": "Vj3lmJcXqX_o"
      },
      "execution_count": null,
      "outputs": []
    },
    {
      "cell_type": "code",
      "source": [
        "slr.predict(logpop)"
      ],
      "metadata": {
        "colab": {
          "base_uri": "https://localhost:8080/"
        },
        "id": "q4hO4y1isJ1H",
        "outputId": "02cb93a7-17b0-41d4-db60-55bc406c6d35"
      },
      "execution_count": 32,
      "outputs": [
        {
          "output_type": "execute_result",
          "data": {
            "text/plain": [
              "array([3.00001037, 2.27901169, 3.30343936, 3.64712627, 3.83588836,\n",
              "       4.14189772, 4.26660871, 4.28560323, 4.52297726, 4.8204649 ,\n",
              "       4.84435204, 5.20740779, 5.61064953, 5.38045839, 5.27410438])"
            ]
          },
          "metadata": {},
          "execution_count": 32
        }
      ]
    },
    {
      "cell_type": "code",
      "source": [
        "df[\"prediction\"]=slr.predict(logpop)"
      ],
      "metadata": {
        "id": "JNSCVuPbsZ6v"
      },
      "execution_count": 33,
      "outputs": []
    },
    {
      "cell_type": "code",
      "source": [
        "df"
      ],
      "metadata": {
        "id": "fuI1as2zsfjz"
      },
      "execution_count": null,
      "outputs": []
    },
    {
      "cell_type": "code",
      "source": [
        "def r2(yo, yp):\n",
        " return 1- ((yo-yp)**2).sum() / ((yo - yo.mean())**2).sum()"
      ],
      "metadata": {
        "id": "n1ChrnMSt5V6"
      },
      "execution_count": 55,
      "outputs": []
    },
    {
      "cell_type": "code",
      "source": [
        "r2(df[\"wspeed\"],df[\"prediction\"])"
      ],
      "metadata": {
        "colab": {
          "base_uri": "https://localhost:8080/"
        },
        "id": "IFqZKzBkuZD-",
        "outputId": "02ebb5a8-982e-451c-ef94-2ade6e335f60"
      },
      "execution_count": 56,
      "outputs": [
        {
          "output_type": "execute_result",
          "data": {
            "text/plain": [
              "0.8216814457855732"
            ]
          },
          "metadata": {},
          "execution_count": 56
        }
      ]
    },
    {
      "cell_type": "markdown",
      "source": [
        "statsmodel"
      ],
      "metadata": {
        "id": "OhCwL19xvlDw"
      }
    },
    {
      "cell_type": "code",
      "source": [
        "import statsmodels.formula.api as smf"
      ],
      "metadata": {
        "id": "6mRkM3AmvmNp"
      },
      "execution_count": 47,
      "outputs": []
    },
    {
      "cell_type": "code",
      "source": [
        "model=smf.ols(formula='wspeed~log_population', data=df)"
      ],
      "metadata": {
        "id": "Qsjd-l24vxvH"
      },
      "execution_count": 50,
      "outputs": []
    },
    {
      "cell_type": "code",
      "source": [
        "results=model.fit()"
      ],
      "metadata": {
        "id": "ykK0cmytwB9f"
      },
      "execution_count": 51,
      "outputs": []
    },
    {
      "cell_type": "code",
      "source": [
        "print (results.summary())"
      ],
      "metadata": {
        "colab": {
          "base_uri": "https://localhost:8080/"
        },
        "id": "JtBScS4IwGk4",
        "outputId": "20593f9a-a30f-496b-df23-a00561156fc9"
      },
      "execution_count": 52,
      "outputs": [
        {
          "output_type": "stream",
          "name": "stdout",
          "text": [
            "                            OLS Regression Results                            \n",
            "==============================================================================\n",
            "Dep. Variable:                 wspeed   R-squared:                       0.822\n",
            "Model:                            OLS   Adj. R-squared:                  0.808\n",
            "Method:                 Least Squares   F-statistic:                     59.90\n",
            "Date:                Tue, 11 Oct 2022   Prob (F-statistic):           3.21e-06\n",
            "Time:                        20:33:19   Log-Likelihood:                -8.5829\n",
            "No. Observations:                  15   AIC:                             21.17\n",
            "Df Residuals:                      13   BIC:                             22.58\n",
            "Df Model:                           1                                         \n",
            "Covariance Type:            nonrobust                                         \n",
            "==================================================================================\n",
            "                     coef    std err          t      P>|t|      [0.025      0.975]\n",
            "----------------------------------------------------------------------------------\n",
            "Intercept          0.0566      0.560      0.101      0.921      -1.154       1.267\n",
            "log_population     0.8653      0.112      7.740      0.000       0.624       1.107\n",
            "==============================================================================\n",
            "Omnibus:                        0.456   Durbin-Watson:                   2.120\n",
            "Prob(Omnibus):                  0.796   Jarque-Bera (JB):                0.531\n",
            "Skew:                           0.115   Prob(JB):                        0.767\n",
            "Kurtosis:                       2.107   Cond. No.                         24.5\n",
            "==============================================================================\n",
            "\n",
            "Notes:\n",
            "[1] Standard Errors assume that the covariance matrix of the errors is correctly specified.\n"
          ]
        },
        {
          "output_type": "stream",
          "name": "stderr",
          "text": [
            "/usr/local/lib/python3.7/dist-packages/scipy/stats/stats.py:1542: UserWarning: kurtosistest only valid for n>=20 ... continuing anyway, n=15\n",
            "  \"anyway, n=%i\" % int(n))\n"
          ]
        }
      ]
    },
    {
      "cell_type": "code",
      "source": [
        "model=smf.ols(formula='wspeed~ I(log_population**2) +log_population', data=df)"
      ],
      "metadata": {
        "id": "Zl1s9_NcxP-l"
      },
      "execution_count": 57,
      "outputs": []
    },
    {
      "cell_type": "code",
      "source": [
        "results=model.fit()"
      ],
      "metadata": {
        "id": "TxmW5WUwxfY_"
      },
      "execution_count": 58,
      "outputs": []
    },
    {
      "cell_type": "code",
      "source": [
        "print(results.summary())"
      ],
      "metadata": {
        "id": "YylUWLQOxyte"
      },
      "execution_count": null,
      "outputs": []
    },
    {
      "cell_type": "code",
      "source": [],
      "metadata": {
        "id": "incKGV_oxiB3"
      },
      "execution_count": null,
      "outputs": []
    }
  ]
}