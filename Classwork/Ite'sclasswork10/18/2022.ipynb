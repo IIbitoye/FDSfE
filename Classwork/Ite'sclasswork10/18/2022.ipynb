{
  "nbformat": 4,
  "nbformat_minor": 0,
  "metadata": {
    "colab": {
      "provenance": [],
      "authorship_tag": "ABX9TyML1F2vTYlLY/7CoKCuqKQM",
      "include_colab_link": true
    },
    "kernelspec": {
      "name": "python3",
      "display_name": "Python 3"
    },
    "language_info": {
      "name": "python"
    }
  },
  "cells": [
    {
      "cell_type": "markdown",
      "metadata": {
        "id": "view-in-github",
        "colab_type": "text"
      },
      "source": [
        "<a href=\"https://colab.research.google.com/github/IIbitoye/FDSfE_IIbitoye/blob/main/Classwork/Ite'sclasswork10/18/2022.ipynb\" target=\"_parent\"><img src=\"https://colab.research.google.com/assets/colab-badge.svg\" alt=\"Open In Colab\"/></a>"
      ]
    },
    {
      "cell_type": "code",
      "source": [
        "a=0.66666666\n",
        "b=0.66776775"
      ],
      "metadata": {
        "id": "M_jaROpBuT5Z"
      },
      "execution_count": 4,
      "outputs": []
    },
    {
      "cell_type": "code",
      "source": [
        "print(\"y=a*x +b \")"
      ],
      "metadata": {
        "colab": {
          "base_uri": "https://localhost:8080/"
        },
        "id": "5BpJfrd3uXqt",
        "outputId": "27d32c0d-2a3e-485d-c705-babfcbe86070"
      },
      "execution_count": 1,
      "outputs": [
        {
          "output_type": "stream",
          "name": "stdout",
          "text": [
            "y=a*x +b \n"
          ]
        }
      ]
    },
    {
      "cell_type": "code",
      "source": [
        "print (\"y=\"+str(a)+\"*x +b\")"
      ],
      "metadata": {
        "colab": {
          "base_uri": "https://localhost:8080/"
        },
        "id": "nXsRobcru1Ez",
        "outputId": "9585489b-758f-4a5f-8c36-b05897a4a201"
      },
      "execution_count": 6,
      "outputs": [
        {
          "output_type": "stream",
          "name": "stdout",
          "text": [
            "y=0.66666666*x +b\n"
          ]
        }
      ]
    },
    {
      "cell_type": "code",
      "source": [
        "print (\"y={0}*x+ {1}\".format(a,b))"
      ],
      "metadata": {
        "colab": {
          "base_uri": "https://localhost:8080/"
        },
        "id": "7_aur0rdugck",
        "outputId": "b053b004-0688-481d-ae0b-243e26792efb"
      },
      "execution_count": 5,
      "outputs": [
        {
          "output_type": "stream",
          "name": "stdout",
          "text": [
            "y=0.66666666*x+ 0.66776775\n"
          ]
        }
      ]
    },
    {
      "cell_type": "code",
      "execution_count": 7,
      "metadata": {
        "colab": {
          "base_uri": "https://localhost:8080/"
        },
        "id": "hmBChVjqtxbc",
        "outputId": "82615972-5823-4a11-9f3e-fbf3e52208bf"
      },
      "outputs": [
        {
          "output_type": "stream",
          "name": "stdout",
          "text": [
            "this is 42 and it is also 42\n"
          ]
        }
      ],
      "source": [
        "print(\"this is {0} and it is also {0}\".format(42))"
      ]
    },
    {
      "cell_type": "markdown",
      "source": [
        "Gradient Descent"
      ],
      "metadata": {
        "id": "dVoa9_YsvgHr"
      }
    },
    {
      "cell_type": "code",
      "source": [
        "import pandas as pd\n",
        "import numpy as np"
      ],
      "metadata": {
        "id": "0jA89RN3vyiZ"
      },
      "execution_count": 42,
      "outputs": []
    },
    {
      "cell_type": "code",
      "source": [
        "wbdat=pd.read_csv(\"https://github.com/fedhere/FDSfE_FBianco/raw/main/data/wbank_US_leb.csv\")"
      ],
      "metadata": {
        "id": "ctHkyXFfw6Dm"
      },
      "execution_count": 22,
      "outputs": []
    },
    {
      "cell_type": "code",
      "source": [
        "wbdat.head()"
      ],
      "metadata": {
        "id": "lM48vDepxGz-"
      },
      "execution_count": null,
      "outputs": []
    },
    {
      "cell_type": "code",
      "source": [
        "wbdat.tail()"
      ],
      "metadata": {
        "id": "KBIszU81xJWS"
      },
      "execution_count": null,
      "outputs": []
    },
    {
      "cell_type": "code",
      "source": [
        "wbdat.info"
      ],
      "metadata": {
        "id": "jQQqA6Llx86N"
      },
      "execution_count": null,
      "outputs": []
    },
    {
      "cell_type": "code",
      "source": [
        "from pandas.io.formats.style import plt\n",
        "import pylab as plt\n",
        "wbdat.plot(\"year\",\"leb\")\n",
        "plt.ylabel(\"life\");"
      ],
      "metadata": {
        "colab": {
          "base_uri": "https://localhost:8080/",
          "height": 279
        },
        "id": "Tb-hJytMxL0W",
        "outputId": "91073c65-d464-4ec9-91b4-87b316aa93af"
      },
      "execution_count": 27,
      "outputs": [
        {
          "output_type": "display_data",
          "data": {
            "text/plain": [
              "<Figure size 432x288 with 1 Axes>"
            ],
            "image/png": "[encoded data removed]"
          },
          "metadata": {
            "needs_background": "light"
          }
        }
      ]
    },
    {
      "cell_type": "code",
      "source": [
        "def sumsqerr(Y_obs, Y_pred):\n",
        "  return ((Y_obs - Y_pred)**2).sum()"
      ],
      "metadata": {
        "id": "eF_i6xq4xhCI"
      },
      "execution_count": 44,
      "outputs": []
    },
    {
      "cell_type": "code",
      "source": [
        "sumsqerr(np.array([1]),np.array([1]))"
      ],
      "metadata": {
        "id": "VU6EbEs8152M"
      },
      "execution_count": null,
      "outputs": []
    },
    {
      "cell_type": "code",
      "source": [
        "# -- extract the X and Y variables into separate arrays\n",
        "X = wbdat[\"year\"].values\n",
        "Y = wbdat[\"leb\"].values\n",
        "# -- set the initial values for slope and intercept\n",
        "slope = [0.1]\n",
        "intercept = [-250]\n",
        "# -- set the learning rate (step size)\n",
        "Lrate = 1e-9\n",
        "# -- set the number of iterations to perform gradient descent\n",
        "epochs = 20\n",
        "# -- create a list to use for saving SSE values\n",
        "Y_pred = slope[-1] * X + intercept[-1]\n",
        "sse = [sumsqerr(Y, Y_pred)]\n",
        "# -- perform Gradient Descent\n",
        "for i in range(epochs):\n",
        "  # -- calculate the gradients for slope and intercept\n",
        "  D_m = -2 * sum(X * (Y - Y_pred))  # Derivative wrt slope\n",
        "  D_c = -2 * sum(Y - Y_pred)  # Derivative wrt intercept\n",
        "  # -- calculate and update the new slope and intercept\n",
        "  slope.append(slope[-1] - Lrate * D_m)\n",
        "  intercept.append(intercept[-1] - Lrate * D_c)\n",
        "  # -- calculate the new predicted value of Y\n",
        "  Y_pred = slope[-1] * X + intercept[-1]\n",
        "  # -- calculate and add the new SSE to list\n",
        "  sse.append(sumsqerr(Y, Y_pred))\n"
      ],
      "metadata": {
        "id": "EpP2mNfdxzrm"
      },
      "execution_count": 46,
      "outputs": []
    },
    {
      "cell_type": "code",
      "source": [
        "print(\"The final model for predicting life expectancy is\")\n",
        "print(\"leb= {0}*year + {1}\".format(slope[-1], intercept[-1]))"
      ],
      "metadata": {
        "colab": {
          "base_uri": "https://localhost:8080/"
        },
        "id": "0ulzEm_Y2Y3V",
        "outputId": "c3c221ff-84a4-45e3-dc02-fae13e2089c5"
      },
      "execution_count": 47,
      "outputs": [
        {
          "output_type": "stream",
          "name": "stdout",
          "text": [
            "The final model for predicting life expectancy is\n",
            "leb= 0.16326068742492328*year + -249.99996820739312\n"
          ]
        }
      ]
    },
    {
      "cell_type": "markdown",
      "source": [
        "My attempt at finding the rsquared value of the lastmodel without using any packages"
      ],
      "metadata": {
        "id": "DcZ65IZbBnZO"
      }
    },
    {
      "cell_type": "code",
      "source": [
        "lastmodely=slope[-1]*x + intercept[-1]\n",
        "x=np.arange(1960, 2020, 1)"
      ],
      "metadata": {
        "id": "F0zkHIqu4bag"
      },
      "execution_count": 91,
      "outputs": []
    },
    {
      "cell_type": "code",
      "source": [
        "Ymean= np.sum(Y)/len(Y)\n",
        "Ymean"
      ],
      "metadata": {
        "colab": {
          "base_uri": "https://localhost:8080/"
        },
        "id": "bt3SkvUm_uSK",
        "outputId": "59f39915-b97f-4e52-8662-81253313adc2"
      },
      "execution_count": 102,
      "outputs": [
        {
          "output_type": "execute_result",
          "data": {
            "text/plain": [
              "74.80654471544717"
            ]
          },
          "metadata": {},
          "execution_count": 102
        }
      ]
    },
    {
      "cell_type": "code",
      "source": [
        "def sstotal(Y_obs, Y_obsmean):\n",
        "  return  (np.sum((Y_obs - Y_obsmean)**2)"
      ],
      "metadata": {
        "id": "CVPKqXWU_qu2"
      },
      "execution_count": 105,
      "outputs": []
    },
    {
      "cell_type": "code",
      "source": [
        "rsquared= 1- (sumsqerr(Y, lastmodely)/sstotal(Y,Ymean))\n",
        "rsquared"
      ],
      "metadata": {
        "colab": {
          "base_uri": "https://localhost:8080/"
        },
        "id": "N5SICS7S-8nC",
        "outputId": "dd65526a-bbce-4f18-c2f8-e33590dc9ede"
      },
      "execution_count": 108,
      "outputs": [
        {
          "output_type": "execute_result",
          "data": {
            "text/plain": [
              "0.9722691236533112"
            ]
          },
          "metadata": {},
          "execution_count": 108
        }
      ]
    },
    {
      "cell_type": "markdown",
      "source": [
        "the value of rsquared i got"
      ],
      "metadata": {
        "id": "zHWnW1DbBwgS"
      }
    },
    {
      "cell_type": "code",
      "source": [
        "ax=wbdat.plot(\"year\", \"leb\")\n",
        "x=np.arange(1960, 2020, 1)\n",
        "y=slope[-1]*x + intercept[-1]\n",
        "ax.plot(x,y, label='model')\n",
        "ax.legend();"
      ],
      "metadata": {
        "colab": {
          "base_uri": "https://localhost:8080/",
          "height": 281
        },
        "id": "7eA1LZ9B3Me7",
        "outputId": "f1ef528c-00dd-40dd-d8e8-875c33bf785a"
      },
      "execution_count": 109,
      "outputs": [
        {
          "output_type": "display_data",
          "data": {
            "text/plain": [
              "<Figure size 432x288 with 1 Axes>"
            ],
            "image/png": "[encoded data removed]"
          },
          "metadata": {
            "needs_background": "light"
          }
        }
      ]
    },
    {
      "cell_type": "code",
      "source": [
        "ax=wbdat.plot(\"year\",\"leb\", kind='scatter')\n",
        "x=np.arange(1960, 2020, 1)\n",
        "for a, b in zip(slope, intercept):\n",
        "  y=a*x +b\n",
        "  ax.plot(x,y)"
      ],
      "metadata": {
        "colab": {
          "base_uri": "https://localhost:8080/",
          "height": 279
        },
        "id": "mUNhsiZh3jSU",
        "outputId": "900c4151-e9dd-485e-f95b-995211c04fdf"
      },
      "execution_count": 51,
      "outputs": [
        {
          "output_type": "display_data",
          "data": {
            "text/plain": [
              "<Figure size 432x288 with 1 Axes>"
            ],
            "image/png": "[encoded data removed]"
          },
          "metadata": {
            "needs_background": "light"
          }
        }
      ]
    },
    {
      "cell_type": "code",
      "source": [
        "plt.plot(sse)\n",
        "plt.xlabel(\"epoch\")\n",
        "plt.ylabel(\"SSE\")"
      ],
      "metadata": {
        "colab": {
          "base_uri": "https://localhost:8080/",
          "height": 296
        },
        "id": "rAxW0_5T4Po3",
        "outputId": "230e5249-a96d-4bfe-a92f-790540f5cc67"
      },
      "execution_count": 52,
      "outputs": [
        {
          "output_type": "execute_result",
          "data": {
            "text/plain": [
              "Text(0, 0.5, 'SSE')"
            ]
          },
          "metadata": {},
          "execution_count": 52
        },
        {
          "output_type": "display_data",
          "data": {
            "text/plain": [
              "<Figure size 432x288 with 1 Axes>"
            ],
            "image/png": "[encoded data removed]"
          },
          "metadata": {
            "needs_background": "light"
          }
        }
      ]
    }
  ]
}