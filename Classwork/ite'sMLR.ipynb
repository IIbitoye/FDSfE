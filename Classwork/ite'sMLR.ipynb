{
  "nbformat": 4,
  "nbformat_minor": 0,
  "metadata": {
    "colab": {
      "provenance": [],
      "authorship_tag": "ABX9TyMbyX4KdiFGFXzAu5OJKTnV",
      "include_colab_link": true
    },
    "kernelspec": {
      "name": "python3",
      "display_name": "Python 3"
    },
    "language_info": {
      "name": "python"
    }
  },
  "cells": [
    {
      "cell_type": "markdown",
      "metadata": {
        "id": "view-in-github",
        "colab_type": "text"
      },
      "source": [
        "<a href=\"https://colab.research.google.com/github/IIbitoye/FDSfE_IIbitoye/blob/main/Classwork/ite'sMLR.ipynb\" target=\"_parent\"><img src=\"https://colab.research.google.com/assets/colab-badge.svg\" alt=\"Open In Colab\"/></a>"
      ]
    },
    {
      "cell_type": "code",
      "execution_count": 1,
      "metadata": {
        "id": "ijadSelP8D-4"
      },
      "outputs": [],
      "source": [
        "import pandas as pd"
      ]
    },
    {
      "cell_type": "code",
      "source": [
        "RealEstate = pd.read_csv(\"https://github.com/fedhere/FDSfE_FBianco/raw/main/data/Real_estate.csv\")"
      ],
      "metadata": {
        "id": "2dKF0bHQ8RwM"
      },
      "execution_count": 2,
      "outputs": []
    },
    {
      "cell_type": "code",
      "source": [
        "RealEstate.head()"
      ],
      "metadata": {
        "id": "GLC2btCF8bFL"
      },
      "execution_count": null,
      "outputs": []
    },
    {
      "cell_type": "code",
      "source": [
        "RealEstate.tail()"
      ],
      "metadata": {
        "id": "OSjptr_o8twY"
      },
      "execution_count": null,
      "outputs": []
    },
    {
      "cell_type": "code",
      "source": [
        "RealEstate.info()"
      ],
      "metadata": {
        "id": "8GA5O6Lk8xDv"
      },
      "execution_count": null,
      "outputs": []
    },
    {
      "cell_type": "code",
      "source": [
        "RealEstate.plot('house_age', 'house_price_unit_area', kind=\"scatter\");"
      ],
      "metadata": {
        "id": "YDocOBqk9Cwh"
      },
      "execution_count": null,
      "outputs": []
    },
    {
      "cell_type": "code",
      "source": [
        "RealEstate.plot(\"convenience_stores\", \"house_price_unit_area\", kind=\"scatter\");"
      ],
      "metadata": {
        "id": "R1aoxavC9XGO"
      },
      "execution_count": null,
      "outputs": []
    },
    {
      "cell_type": "markdown",
      "source": [
        "Multiple Linear Regression"
      ],
      "metadata": {
        "id": "fdpP2EBa9oF_"
      }
    },
    {
      "cell_type": "code",
      "source": [
        "features=RealEstate[[\"house_age\",\"convenience_stores\"]]\n",
        "target=RealEstate[\"house_price_unit_area\"]"
      ],
      "metadata": {
        "id": "i_iyn-kO9rIf"
      },
      "execution_count": 15,
      "outputs": []
    },
    {
      "cell_type": "code",
      "source": [
        "features.shape"
      ],
      "metadata": {
        "id": "q_WjvR30-QHW"
      },
      "execution_count": null,
      "outputs": []
    },
    {
      "cell_type": "code",
      "source": [
        "target.shape"
      ],
      "metadata": {
        "id": "Xm5o1vml-Slk"
      },
      "execution_count": null,
      "outputs": []
    },
    {
      "cell_type": "code",
      "source": [
        "from sklearn.linear_model import LinearRegression"
      ],
      "metadata": {
        "id": "tpz0ZkS--Xik"
      },
      "execution_count": null,
      "outputs": []
    },
    {
      "cell_type": "code",
      "source": [
        "mlr=LinearRegression()"
      ],
      "metadata": {
        "id": "Vhk2Jg64-mUq"
      },
      "execution_count": 22,
      "outputs": []
    },
    {
      "cell_type": "code",
      "source": [
        "mlr.fit(features, target)"
      ],
      "metadata": {
        "colab": {
          "base_uri": "https://localhost:8080/"
        },
        "id": "6EkCJQrE-pnZ",
        "outputId": "a2e5089e-b6f3-4c6c-bed1-2f9bdb753604"
      },
      "execution_count": 23,
      "outputs": [
        {
          "output_type": "execute_result",
          "data": {
            "text/plain": [
              "LinearRegression()"
            ]
          },
          "metadata": {},
          "execution_count": 23
        }
      ]
    },
    {
      "cell_type": "code",
      "source": [
        "print (\"r^2 of the model={0:1f}%\".format(mlr.score(features, target)*100))"
      ],
      "metadata": {
        "id": "mR3Q9EQv-vQR"
      },
      "execution_count": null,
      "outputs": []
    },
    {
      "cell_type": "code",
      "source": [
        "mlr.intercept_"
      ],
      "metadata": {
        "id": "IjXJm0RZ_RSd"
      },
      "execution_count": null,
      "outputs": []
    },
    {
      "cell_type": "code",
      "source": [
        "mlr.coef_"
      ],
      "metadata": {
        "colab": {
          "base_uri": "https://localhost:8080/"
        },
        "id": "WaCndEim_Ttm",
        "outputId": "df4625c9-9c79-4cf9-e5c0-deb222bacf08"
      },
      "execution_count": 27,
      "outputs": [
        {
          "output_type": "execute_result",
          "data": {
            "text/plain": [
              "array([-0.28601262,  2.69251293])"
            ]
          },
          "metadata": {},
          "execution_count": 27
        }
      ]
    },
    {
      "cell_type": "code",
      "source": [
        "RealEstate[\"prediction\"]=mlr.predict(features)"
      ],
      "metadata": {
        "id": "bU7TUOsZAKNy"
      },
      "execution_count": 28,
      "outputs": []
    },
    {
      "cell_type": "code",
      "source": [
        "RealEstate.head()"
      ],
      "metadata": {
        "id": "3RxCKBBIAZDI"
      },
      "execution_count": null,
      "outputs": []
    },
    {
      "cell_type": "code",
      "source": [
        "RealEstate.plot(\"house_price_unit_area\", \"prediction\", kind=\"scatter\");"
      ],
      "metadata": {
        "colab": {
          "base_uri": "https://localhost:8080/",
          "height": 280
        },
        "id": "5_5Ky-ihAdlU",
        "outputId": "b94e0a2a-a50a-4fdf-dc9b-88fed5c61445"
      },
      "execution_count": 30,
      "outputs": [
        {
          "output_type": "display_data",
          "data": {
            "text/plain": [
              "<Figure size 432x288 with 1 Axes>"
            ],
            "image/png": "[encoded data removed]"
          },
          "metadata": {
            "needs_background": "light"
          }
        }
      ]
    },
    {
      "cell_type": "code",
      "source": [
        "features.hist();"
      ],
      "metadata": {
        "colab": {
          "base_uri": "https://localhost:8080/",
          "height": 281
        },
        "id": "SiwJudlTDUxv",
        "outputId": "d0cc3649-9bac-4f34-d3dc-1ceb070f7f24"
      },
      "execution_count": 36,
      "outputs": [
        {
          "output_type": "display_data",
          "data": {
            "text/plain": [
              "<Figure size 432x288 with 2 Axes>"
            ],
            "image/png": "[encoded data removed]"
          },
          "metadata": {
            "needs_background": "light"
          }
        }
      ]
    },
    {
      "cell_type": "markdown",
      "source": [
        "**standardization**"
      ],
      "metadata": {
        "id": "pNXPwoLNCxcK"
      }
    },
    {
      "cell_type": "code",
      "source": [
        "#standardization\n",
        "#array_s=(array-mean)/standard_deviation"
      ],
      "metadata": {
        "id": "HgkkNBLRA1VD"
      },
      "execution_count": null,
      "outputs": []
    },
    {
      "cell_type": "code",
      "source": [
        "features_s=(features-features.mean())/features.std()\n",
        "target_s=(target-target.mean())/target.std()"
      ],
      "metadata": {
        "id": "L0E_rGryDBeg"
      },
      "execution_count": 38,
      "outputs": []
    },
    {
      "cell_type": "code",
      "source": [
        "features_s.hist();"
      ],
      "metadata": {
        "colab": {
          "base_uri": "https://localhost:8080/",
          "height": 281
        },
        "id": "k8z55uoyDN6b",
        "outputId": "e021d082-68ca-4aaa-8bf6-52397fad4de7"
      },
      "execution_count": 39,
      "outputs": [
        {
          "output_type": "display_data",
          "data": {
            "text/plain": [
              "<Figure size 432x288 with 2 Axes>"
            ],
            "image/png": "[encoded data removed]"
          },
          "metadata": {
            "needs_background": "light"
          }
        }
      ]
    },
    {
      "cell_type": "code",
      "source": [
        "target_s.hist();"
      ],
      "metadata": {
        "colab": {
          "base_uri": "https://localhost:8080/",
          "height": 268
        },
        "id": "fiNP6C1MDgpl",
        "outputId": "cc2489d2-4a09-42ec-fa90-def381464e98"
      },
      "execution_count": 40,
      "outputs": [
        {
          "output_type": "display_data",
          "data": {
            "text/plain": [
              "<Figure size 432x288 with 1 Axes>"
            ],
            "image/png": "[encoded data removed]"
          },
          "metadata": {
            "needs_background": "light"
          }
        }
      ]
    },
    {
      "cell_type": "code",
      "source": [
        "mlr_s=LinearRegression()"
      ],
      "metadata": {
        "id": "sWzzMiJPEMmC"
      },
      "execution_count": 41,
      "outputs": []
    },
    {
      "cell_type": "code",
      "source": [
        "mlr_s.fit(features_s, target_s)"
      ],
      "metadata": {
        "colab": {
          "base_uri": "https://localhost:8080/"
        },
        "id": "VBSb0HAoEQqv",
        "outputId": "a6262159-a5d8-42a1-e92c-8c75eaf828fe"
      },
      "execution_count": 42,
      "outputs": [
        {
          "output_type": "execute_result",
          "data": {
            "text/plain": [
              "LinearRegression()"
            ]
          },
          "metadata": {},
          "execution_count": 42
        }
      ]
    },
    {
      "cell_type": "code",
      "source": [
        "mlr.score(features,target)"
      ],
      "metadata": {
        "colab": {
          "base_uri": "https://localhost:8080/"
        },
        "id": "IoY7cZeEEXC1",
        "outputId": "7d102231-147e-4aad-da24-0c676f46993c"
      },
      "execution_count": 43,
      "outputs": [
        {
          "output_type": "execute_result",
          "data": {
            "text/plain": [
              "0.3832531624493465"
            ]
          },
          "metadata": {},
          "execution_count": 43
        }
      ]
    },
    {
      "cell_type": "code",
      "source": [
        "mlr_s.score(features_s, target_s)"
      ],
      "metadata": {
        "colab": {
          "base_uri": "https://localhost:8080/"
        },
        "id": "e3t3_gTAEbPD",
        "outputId": "7fc8a8ee-5baa-4669-c7bd-23fac55669b0"
      },
      "execution_count": 44,
      "outputs": [
        {
          "output_type": "execute_result",
          "data": {
            "text/plain": [
              "0.3832531624493465"
            ]
          },
          "metadata": {},
          "execution_count": 44
        }
      ]
    },
    {
      "cell_type": "code",
      "source": [
        "mlr.coef_"
      ],
      "metadata": {
        "colab": {
          "base_uri": "https://localhost:8080/"
        },
        "id": "S5z9cK_rEjU2",
        "outputId": "9de70503-2898-4ec0-8f98-6dca8ae9cabc"
      },
      "execution_count": 45,
      "outputs": [
        {
          "output_type": "execute_result",
          "data": {
            "text/plain": [
              "array([-0.28601262,  2.69251293])"
            ]
          },
          "metadata": {},
          "execution_count": 45
        }
      ]
    },
    {
      "cell_type": "code",
      "source": [
        "mlr_s.coef_"
      ],
      "metadata": {
        "colab": {
          "base_uri": "https://localhost:8080/"
        },
        "id": "7TiRL1xmEqOH",
        "outputId": "57d394cc-be4f-4ce3-f52c-f4e582e0638d"
      },
      "execution_count": 46,
      "outputs": [
        {
          "output_type": "execute_result",
          "data": {
            "text/plain": [
              "array([-0.23947358,  0.58288101])"
            ]
          },
          "metadata": {},
          "execution_count": 46
        }
      ]
    },
    {
      "cell_type": "markdown",
      "source": [
        "***min max normalization\n",
        "array_n= (arrray-min) /(max-min)***"
      ],
      "metadata": {
        "id": "Ae63JPxPFrFB"
      }
    },
    {
      "cell_type": "markdown",
      "source": [
        "***statsmodels***"
      ],
      "metadata": {
        "id": "9X1F80gqGQww"
      }
    },
    {
      "cell_type": "code",
      "source": [
        "import statsmodels.formula.api as smf"
      ],
      "metadata": {
        "id": "Q57w0kRiGPGR"
      },
      "execution_count": 47,
      "outputs": []
    },
    {
      "cell_type": "code",
      "source": [
        "df=features_s\n",
        "df[\"target\"]=target_s"
      ],
      "metadata": {
        "id": "1HEt8nmvGei_"
      },
      "execution_count": 50,
      "outputs": []
    },
    {
      "cell_type": "code",
      "source": [
        "df.head()"
      ],
      "metadata": {
        "id": "Tp_nrYUWGpCX"
      },
      "execution_count": null,
      "outputs": []
    },
    {
      "cell_type": "code",
      "source": [
        "model=smf.ols(formula='target~ house_age +convenience_stores',data=df)"
      ],
      "metadata": {
        "id": "hm8w44bZGyJL"
      },
      "execution_count": 52,
      "outputs": []
    },
    {
      "cell_type": "code",
      "source": [
        "results=model.fit()"
      ],
      "metadata": {
        "id": "7a6iIe-ZHBcz"
      },
      "execution_count": 55,
      "outputs": []
    },
    {
      "cell_type": "code",
      "source": [
        "print(results.summary())"
      ],
      "metadata": {
        "colab": {
          "base_uri": "https://localhost:8080/"
        },
        "id": "Iev1yqnMHEM5",
        "outputId": "26a12df0-c49e-49c6-b035-736310ed2fcc"
      },
      "execution_count": 56,
      "outputs": [
        {
          "output_type": "stream",
          "name": "stdout",
          "text": [
            "                            OLS Regression Results                            \n",
            "==============================================================================\n",
            "Dep. Variable:                 target   R-squared:                       0.383\n",
            "Model:                            OLS   Adj. R-squared:                  0.380\n",
            "Method:                 Least Squares   F-statistic:                     127.7\n",
            "Date:                Thu, 20 Oct 2022   Prob (F-statistic):           7.36e-44\n",
            "Time:                        20:36:13   Log-Likelihood:                -486.90\n",
            "No. Observations:                 414   AIC:                             979.8\n",
            "Df Residuals:                     411   BIC:                             991.9\n",
            "Df Model:                           2                                         \n",
            "Covariance Type:            nonrobust                                         \n",
            "======================================================================================\n",
            "                         coef    std err          t      P>|t|      [0.025      0.975]\n",
            "--------------------------------------------------------------------------------------\n",
            "Intercept           1.119e-16      0.039   2.89e-15      1.000      -0.076       0.076\n",
            "house_age             -0.2395      0.039     -6.174      0.000      -0.316      -0.163\n",
            "convenience_stores     0.5829      0.039     15.028      0.000       0.507       0.659\n",
            "==============================================================================\n",
            "Omnibus:                      190.249   Durbin-Watson:                   2.021\n",
            "Prob(Omnibus):                  0.000   Jarque-Bera (JB):             1844.768\n",
            "Skew:                           1.705   Prob(JB):                         0.00\n",
            "Kurtosis:                      12.763   Cond. No.                         1.05\n",
            "==============================================================================\n",
            "\n",
            "Notes:\n",
            "[1] Standard Errors assume that the covariance matrix of the errors is correctly specified.\n"
          ]
        }
      ]
    },
    {
      "cell_type": "code",
      "source": [
        "mlr.intercept_"
      ],
      "metadata": {
        "colab": {
          "base_uri": "https://localhost:8080/"
        },
        "id": "3UFhGY_zHNbe",
        "outputId": "8f72a363-2cb5-4aed-d3e2-cf9563764e91"
      },
      "execution_count": 57,
      "outputs": [
        {
          "output_type": "execute_result",
          "data": {
            "text/plain": [
              "32.02251473732663"
            ]
          },
          "metadata": {},
          "execution_count": 57
        }
      ]
    }
  ]
}