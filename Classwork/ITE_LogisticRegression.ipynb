{
  "nbformat": 4,
  "nbformat_minor": 0,
  "metadata": {
    "colab": {
      "provenance": [],
      "authorship_tag": "ABX9TyNM7odMFJ3LCdmrmhap/+Pe",
      "include_colab_link": true
    },
    "kernelspec": {
      "name": "python3",
      "display_name": "Python 3"
    },
    "language_info": {
      "name": "python"
    }
  },
  "cells": [
    {
      "cell_type": "markdown",
      "metadata": {
        "id": "view-in-github",
        "colab_type": "text"
      },
      "source": [
        "<a href=\"https://colab.research.google.com/github/IIbitoye/FDSfE_IIbitoye/blob/main/Classwork/ITE_LogisticRegression.ipynb\" target=\"_parent\"><img src=\"https://colab.research.google.com/assets/colab-badge.svg\" alt=\"Open In Colab\"/></a>"
      ]
    },
    {
      "cell_type": "code",
      "execution_count": 2,
      "metadata": {
        "id": "Kv5bCvVTv9q1"
      },
      "outputs": [],
      "source": [
        "import pandas as pd"
      ]
    },
    {
      "cell_type": "code",
      "source": [
        "bank = pd.read_csv(\"https://github.com/fedhere/FDSfE_FBianco/raw/main/data/bank_term_deposit.csv\")"
      ],
      "metadata": {
        "id": "aJHeANQNwYZi"
      },
      "execution_count": 3,
      "outputs": []
    },
    {
      "cell_type": "code",
      "source": [
        "bank.head()"
      ],
      "metadata": {
        "id": "A5qCo5PGwfIA"
      },
      "execution_count": null,
      "outputs": []
    },
    {
      "cell_type": "code",
      "source": [
        "bank.tail()"
      ],
      "metadata": {
        "id": "V89__1gjwh_Z"
      },
      "execution_count": null,
      "outputs": []
    },
    {
      "cell_type": "code",
      "source": [
        "bank.info()"
      ],
      "metadata": {
        "id": "PYz4s5ESwkWO"
      },
      "execution_count": null,
      "outputs": []
    },
    {
      "cell_type": "code",
      "source": [
        "bank[\"y\"]"
      ],
      "metadata": {
        "id": "u7J9N4mlxYg5"
      },
      "execution_count": null,
      "outputs": []
    },
    {
      "cell_type": "code",
      "source": [
        "bank[\"y\"].unique()"
      ],
      "metadata": {
        "colab": {
          "base_uri": "https://localhost:8080/"
        },
        "id": "B1q6mDkDxfUq",
        "outputId": "52652e4a-93ee-450c-f78f-c145d23514e0"
      },
      "execution_count": 9,
      "outputs": [
        {
          "output_type": "execute_result",
          "data": {
            "text/plain": [
              "array(['no', 'yes'], dtype=object)"
            ]
          },
          "metadata": {},
          "execution_count": 9
        }
      ]
    },
    {
      "cell_type": "code",
      "source": [
        "bank[\"y\"]==\"yes\""
      ],
      "metadata": {
        "colab": {
          "base_uri": "https://localhost:8080/"
        },
        "id": "OmK09MxRxj0i",
        "outputId": "015ef18f-b6aa-4897-c966-8c44524e54b2"
      },
      "execution_count": 10,
      "outputs": [
        {
          "output_type": "execute_result",
          "data": {
            "text/plain": [
              "0       False\n",
              "1       False\n",
              "2       False\n",
              "3       False\n",
              "4       False\n",
              "        ...  \n",
              "1037     True\n",
              "1038     True\n",
              "1039     True\n",
              "1040     True\n",
              "1041     True\n",
              "Name: y, Length: 1042, dtype: bool"
            ]
          },
          "metadata": {},
          "execution_count": 10
        }
      ]
    },
    {
      "cell_type": "code",
      "source": [
        "(bank[\"y\"]==\"yes\").astype(int)"
      ],
      "metadata": {
        "colab": {
          "base_uri": "https://localhost:8080/"
        },
        "id": "aQ1FjQeYxyeO",
        "outputId": "8e8ba710-3d15-4c59-967e-0beac2203b04"
      },
      "execution_count": 11,
      "outputs": [
        {
          "output_type": "execute_result",
          "data": {
            "text/plain": [
              "0       0\n",
              "1       0\n",
              "2       0\n",
              "3       0\n",
              "4       0\n",
              "       ..\n",
              "1037    1\n",
              "1038    1\n",
              "1039    1\n",
              "1040    1\n",
              "1041    1\n",
              "Name: y, Length: 1042, dtype: int64"
            ]
          },
          "metadata": {},
          "execution_count": 11
        }
      ]
    },
    {
      "cell_type": "code",
      "source": [
        "bank[\"target\"]=(bank[\"y\"]==\"yes\").astype(int)"
      ],
      "metadata": {
        "id": "VNI0EZWdx7aO"
      },
      "execution_count": 12,
      "outputs": []
    },
    {
      "cell_type": "code",
      "source": [
        "bank"
      ],
      "metadata": {
        "id": "c60JfQ5GyBPa"
      },
      "execution_count": null,
      "outputs": []
    },
    {
      "cell_type": "code",
      "source": [
        "bank.hist(figsize=(10,10));"
      ],
      "metadata": {
        "id": "Gj2h5kZ-yK0M"
      },
      "execution_count": null,
      "outputs": []
    },
    {
      "cell_type": "code",
      "source": [
        "bank.plot(\"duration\",\"target\",kind=\"scatter\", alpha=0.1);"
      ],
      "metadata": {
        "colab": {
          "base_uri": "https://localhost:8080/",
          "height": 279
        },
        "id": "dxUkJ7LoyoXE",
        "outputId": "c497dbf1-449f-46ad-ef4d-71507aa535e9"
      },
      "execution_count": 20,
      "outputs": [
        {
          "output_type": "display_data",
          "data": {
            "text/plain": [
              "<Figure size 432x288 with 1 Axes>"
            ],
            "image/png": "[encoded data removed]"
          },
          "metadata": {
            "needs_background": "light"
          }
        }
      ]
    },
    {
      "cell_type": "code",
      "source": [
        "features=bank[\"duration\"]\n",
        "target=bank[\"target\"]"
      ],
      "metadata": {
        "id": "MtoD8Zpiy550"
      },
      "execution_count": 21,
      "outputs": []
    },
    {
      "cell_type": "code",
      "source": [
        "from sklearn.linear_model import LogisticRegression"
      ],
      "metadata": {
        "id": "UF_l9nTIzDsb"
      },
      "execution_count": 22,
      "outputs": []
    },
    {
      "cell_type": "code",
      "source": [
        "#initialize\n",
        "logreg= LogisticRegression()"
      ],
      "metadata": {
        "id": "NDJfZ26kzV5o"
      },
      "execution_count": 23,
      "outputs": []
    },
    {
      "cell_type": "code",
      "source": [
        "features=features.values.reshape(-1,1)"
      ],
      "metadata": {
        "id": "Na6XIkaBz4Zi"
      },
      "execution_count": 31,
      "outputs": []
    },
    {
      "cell_type": "code",
      "source": [
        "logreg.fit(features, target)"
      ],
      "metadata": {
        "id": "dGpEhSZ_zk-g"
      },
      "execution_count": null,
      "outputs": []
    },
    {
      "cell_type": "code",
      "source": [
        "logreg.intercept_"
      ],
      "metadata": {
        "colab": {
          "base_uri": "https://localhost:8080/"
        },
        "id": "QBBRygMK0LKy",
        "outputId": "5cfe2100-0084-40d3-f376-da315ad52c8e"
      },
      "execution_count": 33,
      "outputs": [
        {
          "output_type": "execute_result",
          "data": {
            "text/plain": [
              "array([-1.54905868])"
            ]
          },
          "metadata": {},
          "execution_count": 33
        }
      ]
    },
    {
      "cell_type": "code",
      "source": [
        "logreg.coef_"
      ],
      "metadata": {
        "colab": {
          "base_uri": "https://localhost:8080/"
        },
        "id": "1_AZ-x9t0Q9j",
        "outputId": "ce7ec8b8-75eb-45ac-8394-420ad6aa5044"
      },
      "execution_count": 34,
      "outputs": [
        {
          "output_type": "execute_result",
          "data": {
            "text/plain": [
              "array([[0.00443281]])"
            ]
          },
          "metadata": {},
          "execution_count": 34
        }
      ]
    },
    {
      "cell_type": "code",
      "source": [
        "import pylab as plt\n",
        "import numpy as np"
      ],
      "metadata": {
        "id": "Ee4kyBC_0Vnm"
      },
      "execution_count": 35,
      "outputs": []
    },
    {
      "cell_type": "code",
      "source": [
        "ax=bank.plot(\"duration\",\"target\",kind=\"scatter\", alpha=0.1)\n",
        "x = np.arange(0,3000,100)\n",
        "z = logreg.coef_[0]*x +logreg.intercept_\n",
        "f = 1/(1 + np.exp(-z))\n",
        "ax.plot(x, f, label=\"model\")\n",
        "ax.legend();"
      ],
      "metadata": {
        "colab": {
          "base_uri": "https://localhost:8080/",
          "height": 279
        },
        "id": "qICr4pxf0ZrJ",
        "outputId": "0ff2f179-1e0a-4f82-8036-dfb99c805c5b"
      },
      "execution_count": 38,
      "outputs": [
        {
          "output_type": "display_data",
          "data": {
            "text/plain": [
              "<Figure size 432x288 with 1 Axes>"
            ],
            "image/png": "[encoded data removed]"
          },
          "metadata": {
            "needs_background": "light"
          }
        }
      ]
    },
    {
      "cell_type": "code",
      "source": [
        "prediction=logreg.predict(features)"
      ],
      "metadata": {
        "id": "qwElz5kG2K6W"
      },
      "execution_count": 40,
      "outputs": []
    },
    {
      "cell_type": "code",
      "source": [
        "plt.scatter(features[prediction==0], target[prediction==0], alpha=0.1, color=\"red\", label=\"class 0\")\n",
        "plt.scatter(features[prediction==1], target[prediction==1], alpha=0.1, color=\"blue\", label=\"class 1\")\n",
        "plt.plot(x,f,color=\"orange\",label=\"model\")\n",
        "plt.xlabel(\"duration\")\n",
        "plt.ylabel(\"target\")\n",
        "plt.legend();"
      ],
      "metadata": {
        "colab": {
          "base_uri": "https://localhost:8080/",
          "height": 279
        },
        "id": "N2RUqeY52cfS",
        "outputId": "ddfdeabf-fef0-412b-8ce8-3e0870ba7031"
      },
      "execution_count": 44,
      "outputs": [
        {
          "output_type": "display_data",
          "data": {
            "text/plain": [
              "<Figure size 432x288 with 1 Axes>"
            ],
            "image/png": "[encoded data removed]"
          },
          "metadata": {
            "needs_background": "light"
          }
        }
      ]
    },
    {
      "cell_type": "code",
      "source": [
        "from sklearn.metrics import r2_score\n",
        "\n",
        "r2_score(target, prediction)"
      ],
      "metadata": {
        "colab": {
          "base_uri": "https://localhost:8080/"
        },
        "id": "_AkgvNkk3XaI",
        "outputId": "d0097409-653e-4300-b275-0d851de069b8"
      },
      "execution_count": 45,
      "outputs": [
        {
          "output_type": "execute_result",
          "data": {
            "text/plain": [
              "-0.15930902111324374"
            ]
          },
          "metadata": {},
          "execution_count": 45
        }
      ]
    },
    {
      "cell_type": "code",
      "source": [
        "prediction==target"
      ],
      "metadata": {
        "id": "CrflLlev3maF"
      },
      "execution_count": null,
      "outputs": []
    },
    {
      "cell_type": "code",
      "source": [
        "(prediction==target).sum()"
      ],
      "metadata": {
        "id": "6Ziz1uIH3upM"
      },
      "execution_count": null,
      "outputs": []
    },
    {
      "cell_type": "code",
      "source": [
        "accuracy=(prediction==target).sum()/len(target)\n",
        "\n",
        "print(\"Model accuracy= {0:.1f}%\".format(accuracy*100))"
      ],
      "metadata": {
        "colab": {
          "base_uri": "https://localhost:8080/"
        },
        "id": "XV0xrw3J38r1",
        "outputId": "4be342de-8d16-45c8-e70e-d2b5eee2f2dc"
      },
      "execution_count": 52,
      "outputs": [
        {
          "output_type": "stream",
          "name": "stdout",
          "text": [
            "Model accuracy= 71.0%\n"
          ]
        }
      ]
    }
  ]
}