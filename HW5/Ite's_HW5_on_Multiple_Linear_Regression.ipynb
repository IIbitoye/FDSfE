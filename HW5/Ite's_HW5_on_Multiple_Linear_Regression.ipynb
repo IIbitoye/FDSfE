{
  "nbformat": 4,
  "nbformat_minor": 0,
  "metadata": {
    "colab": {
      "provenance": [],
      "collapsed_sections": [],
      "include_colab_link": true
    },
    "kernelspec": {
      "name": "python3",
      "display_name": "Python 3"
    },
    "language_info": {
      "name": "python"
    }
  },
  "cells": [
    {
      "cell_type": "markdown",
      "metadata": {
        "id": "view-in-github",
        "colab_type": "text"
      },
      "source": [
        "<a href=\"https://colab.research.google.com/github/IIbitoye/FDSfE_IIbitoye/blob/main/HW5/Ite's_HW5_on_Multiple_Linear_Regression.ipynb\" target=\"_parent\"><img src=\"https://colab.research.google.com/assets/colab-badge.svg\" alt=\"Open In Colab\"/></a>"
      ]
    },
    {
      "cell_type": "markdown",
      "source": [
        "# **Multiple Linear Regression**\n",
        "\n",
        "---\n",
        "\n",
        "###Data\n",
        "\n",
        "The data used in this assignment contains a cleaned and curated version of the market real estate valuations collected from Sindian Dist., New Taipei City, Taiwan, by Prof. I-Cheng Yeh, Department of Civil Engineering, Tamkang University, Taiwan.\n",
        "\n",
        "The features in the data are the following:\n",
        "\n",
        "* ```transaction_date```: the transaction date (for example, 2013.250=2013 March, 2013.500=2013 June, etc.)\n",
        "* ```house_age```: the house age (unit: year)\n",
        "* ```distance_nearest_MRT_station```: the distance to the nearest MRT station (unit: meter)\n",
        "* ```convenience_stores```: the number of convenience stores in the living circle on foot (integer)\n",
        "\n",
        "The target is:\n",
        "* ```house_price_unit_area```house price of unit area (10000 New Taiwan Dollar/Ping, where Ping is a local unit, 1 Ping = 3.3 meter squared)\n",
        "\n",
        "---\n",
        "\n",
        "## HW instructions:\n",
        "\n",
        "Similar to what was done in class, your task is to do the following:\n",
        "1.   create a simple regression model that utilizes only one feature: the log10 of ```distance_nearest_MRT_station``` to predict the house price/unit area, and find the model's metrics ($R^2$ and Adjusted-$R^2$), as well as the the coeffient (slope) of the line.\n",
        "\n",
        "2.   create a multiple regression model that utilizes all features in the dataset to predict the house price/unit area, and find the model's metrics ($R^2$ and Adjusted-$R^2$), as well as the the coeffient for each variable.\n",
        "\n",
        "--"
      ],
      "metadata": {
        "id": "kBKIrBnIlHg8"
      }
    },
    {
      "cell_type": "code",
      "execution_count": 1,
      "metadata": {
        "id": "ATylBaqD5ljg"
      },
      "outputs": [],
      "source": [
        "# -- import libraries here\n",
        "import pandas as pd\n",
        "import numpy as np"
      ]
    },
    {
      "cell_type": "markdown",
      "source": [
        "Read the data file from the class repo which can be found in the folder \"data\" and is called \"Real_estate.csv\""
      ],
      "metadata": {
        "id": "S4YEe0nUgWG1"
      }
    },
    {
      "cell_type": "code",
      "source": [
        "# -- your code here \n",
        "RealEstate= pd.read_csv(\"https://github.com/fedhere/FDSfE_FBianco/raw/main/data/Real_estate.csv\")"
      ],
      "metadata": {
        "id": "7vu7tgc3CrxL"
      },
      "execution_count": 2,
      "outputs": []
    },
    {
      "cell_type": "code",
      "source": [
        "RealEstate.head()"
      ],
      "metadata": {
        "colab": {
          "base_uri": "https://localhost:8080/",
          "height": 206
        },
        "id": "TihGcMIpCigX",
        "outputId": "c652fd79-23b7-4267-bf4a-66255cafd4c8"
      },
      "execution_count": 3,
      "outputs": [
        {
          "output_type": "execute_result",
          "data": {
            "text/plain": [
              "   transaction_date  house_age  distance_nearest_MRT_station  \\\n",
              "0          2012.917       32.0                      84.87882   \n",
              "1          2012.917       19.5                     306.59470   \n",
              "2          2013.583       13.3                     561.98450   \n",
              "3          2013.500       13.3                     561.98450   \n",
              "4          2012.833        5.0                     390.56840   \n",
              "\n",
              "   convenience_stores  house_price_unit_area  \n",
              "0                  10                   37.9  \n",
              "1                   9                   42.2  \n",
              "2                   5                   47.3  \n",
              "3                   5                   54.8  \n",
              "4                   5                   43.1  "
            ],
            "text/html": [
              "\n",
              "  <div id=\"df-fb3cd2a9-9487-4085-88ec-bf6b44ed9886\">\n",
              "    <div class=\"colab-df-container\">\n",
              "      <div>\n",
              "<style scoped>\n",
              "    .dataframe tbody tr th:only-of-type {\n",
              "        vertical-align: middle;\n",
              "    }\n",
              "\n",
              "    .dataframe tbody tr th {\n",
              "        vertical-align: top;\n",
              "    }\n",
              "\n",
              "    .dataframe thead th {\n",
              "        text-align: right;\n",
              "    }\n",
              "</style>\n",
              "<table border=\"1\" class=\"dataframe\">\n",
              "  <thead>\n",
              "    <tr style=\"text-align: right;\">\n",
              "      <th></th>\n",
              "      <th>transaction_date</th>\n",
              "      <th>house_age</th>\n",
              "      <th>distance_nearest_MRT_station</th>\n",
              "      <th>convenience_stores</th>\n",
              "      <th>house_price_unit_area</th>\n",
              "    </tr>\n",
              "  </thead>\n",
              "  <tbody>\n",
              "    <tr>\n",
              "      <th>0</th>\n",
              "      <td>2012.917</td>\n",
              "      <td>32.0</td>\n",
              "      <td>84.87882</td>\n",
              "      <td>10</td>\n",
              "      <td>37.9</td>\n",
              "    </tr>\n",
              "    <tr>\n",
              "      <th>1</th>\n",
              "      <td>2012.917</td>\n",
              "      <td>19.5</td>\n",
              "      <td>306.59470</td>\n",
              "      <td>9</td>\n",
              "      <td>42.2</td>\n",
              "    </tr>\n",
              "    <tr>\n",
              "      <th>2</th>\n",
              "      <td>2013.583</td>\n",
              "      <td>13.3</td>\n",
              "      <td>561.98450</td>\n",
              "      <td>5</td>\n",
              "      <td>47.3</td>\n",
              "    </tr>\n",
              "    <tr>\n",
              "      <th>3</th>\n",
              "      <td>2013.500</td>\n",
              "      <td>13.3</td>\n",
              "      <td>561.98450</td>\n",
              "      <td>5</td>\n",
              "      <td>54.8</td>\n",
              "    </tr>\n",
              "    <tr>\n",
              "      <th>4</th>\n",
              "      <td>2012.833</td>\n",
              "      <td>5.0</td>\n",
              "      <td>390.56840</td>\n",
              "      <td>5</td>\n",
              "      <td>43.1</td>\n",
              "    </tr>\n",
              "  </tbody>\n",
              "</table>\n",
              "</div>\n",
              "      <button class=\"colab-df-convert\" onclick=\"convertToInteractive('df-fb3cd2a9-9487-4085-88ec-bf6b44ed9886')\"\n",
              "              title=\"Convert this dataframe to an interactive table.\"\n",
              "              style=\"display:none;\">\n",
              "        \n",
              "  <svg xmlns=\"http://www.w3.org/2000/svg\" height=\"24px\"viewBox=\"0 0 24 24\"\n",
              "       width=\"24px\">\n",
              "    <path d=\"M0 0h24v24H0V0z\" fill=\"none\"/>\n",
              "    <path d=\"M18.56 5.44l.94 2.06.94-2.06 2.06-.94-2.06-.94-.94-2.06-.94 2.06-2.06.94zm-11 1L8.5 8.5l.94-2.06 2.06-.94-2.06-.94L8.5 2.5l-.94 2.06-2.06.94zm10 10l.94 2.06.94-2.06 2.06-.94-2.06-.94-.94-2.06-.94 2.06-2.06.94z\"/><path d=\"M17.41 7.96l-1.37-1.37c-.4-.4-.92-.59-1.43-.59-.52 0-1.04.2-1.43.59L10.3 9.45l-7.72 7.72c-.78.78-.78 2.05 0 2.83L4 21.41c.39.39.9.59 1.41.59.51 0 1.02-.2 1.41-.59l7.78-7.78 2.81-2.81c.8-.78.8-2.07 0-2.86zM5.41 20L4 18.59l7.72-7.72 1.47 1.35L5.41 20z\"/>\n",
              "  </svg>\n",
              "      </button>\n",
              "      \n",
              "  <style>\n",
              "    .colab-df-container {\n",
              "      display:flex;\n",
              "      flex-wrap:wrap;\n",
              "      gap: 12px;\n",
              "    }\n",
              "\n",
              "    .colab-df-convert {\n",
              "      background-color: #E8F0FE;\n",
              "      border: none;\n",
              "      border-radius: 50%;\n",
              "      cursor: pointer;\n",
              "      display: none;\n",
              "      fill: #1967D2;\n",
              "      height: 32px;\n",
              "      padding: 0 0 0 0;\n",
              "      width: 32px;\n",
              "    }\n",
              "\n",
              "    .colab-df-convert:hover {\n",
              "      background-color: #E2EBFA;\n",
              "      box-shadow: 0px 1px 2px rgba(60, 64, 67, 0.3), 0px 1px 3px 1px rgba(60, 64, 67, 0.15);\n",
              "      fill: #174EA6;\n",
              "    }\n",
              "\n",
              "    [theme=dark] .colab-df-convert {\n",
              "      background-color: #3B4455;\n",
              "      fill: #D2E3FC;\n",
              "    }\n",
              "\n",
              "    [theme=dark] .colab-df-convert:hover {\n",
              "      background-color: #434B5C;\n",
              "      box-shadow: 0px 1px 3px 1px rgba(0, 0, 0, 0.15);\n",
              "      filter: drop-shadow(0px 1px 2px rgba(0, 0, 0, 0.3));\n",
              "      fill: #FFFFFF;\n",
              "    }\n",
              "  </style>\n",
              "\n",
              "      <script>\n",
              "        const buttonEl =\n",
              "          document.querySelector('#df-fb3cd2a9-9487-4085-88ec-bf6b44ed9886 button.colab-df-convert');\n",
              "        buttonEl.style.display =\n",
              "          google.colab.kernel.accessAllowed ? 'block' : 'none';\n",
              "\n",
              "        async function convertToInteractive(key) {\n",
              "          const element = document.querySelector('#df-fb3cd2a9-9487-4085-88ec-bf6b44ed9886');\n",
              "          const dataTable =\n",
              "            await google.colab.kernel.invokeFunction('convertToInteractive',\n",
              "                                                     [key], {});\n",
              "          if (!dataTable) return;\n",
              "\n",
              "          const docLinkHtml = 'Like what you see? Visit the ' +\n",
              "            '<a target=\"_blank\" href=https://colab.research.google.com/notebooks/data_table.ipynb>data table notebook</a>'\n",
              "            + ' to learn more about interactive tables.';\n",
              "          element.innerHTML = '';\n",
              "          dataTable['output_type'] = 'display_data';\n",
              "          await google.colab.output.renderOutput(dataTable, element);\n",
              "          const docLink = document.createElement('div');\n",
              "          docLink.innerHTML = docLinkHtml;\n",
              "          element.appendChild(docLink);\n",
              "        }\n",
              "      </script>\n",
              "    </div>\n",
              "  </div>\n",
              "  "
            ]
          },
          "metadata": {},
          "execution_count": 3
        }
      ]
    },
    {
      "cell_type": "markdown",
      "source": [
        "## Task 1: simple linear regression\n",
        "\n",
        "create a simple regression model that utilizes only one feature: the log10 of ```distance_nearest_MRT_station``` to predict the house price/unit area, and find the model's metrics ($R^2$ and Adjusted-$R^2$), as well as the the coeffient (slope) of the line.\n",
        "\n",
        "---\n"
      ],
      "metadata": {
        "id": "tP10cnl7UBJg"
      }
    },
    {
      "cell_type": "markdown",
      "source": [
        "Calculate the log10 of the ```distance_nearest_MRT_station``` column and add it as a new column to the data frame"
      ],
      "metadata": {
        "id": "YGx9scRQU8C0"
      }
    },
    {
      "cell_type": "code",
      "source": [
        "# -- your code here \n",
        "RealEstate[\"log_distance_nearest_MRT\"]=np.log10(RealEstate[\"distance_nearest_MRT_station\"])"
      ],
      "metadata": {
        "id": "p4cNG_YBCr0M"
      },
      "execution_count": 4,
      "outputs": []
    },
    {
      "cell_type": "code",
      "source": [
        "RealEstate.head()"
      ],
      "metadata": {
        "colab": {
          "base_uri": "https://localhost:8080/",
          "height": 206
        },
        "id": "en8BlWxXDDmf",
        "outputId": "b83f8000-0f42-4aba-b2b3-f99d72cb2987"
      },
      "execution_count": 5,
      "outputs": [
        {
          "output_type": "execute_result",
          "data": {
            "text/plain": [
              "   transaction_date  house_age  distance_nearest_MRT_station  \\\n",
              "0          2012.917       32.0                      84.87882   \n",
              "1          2012.917       19.5                     306.59470   \n",
              "2          2013.583       13.3                     561.98450   \n",
              "3          2013.500       13.3                     561.98450   \n",
              "4          2012.833        5.0                     390.56840   \n",
              "\n",
              "   convenience_stores  house_price_unit_area  log_distance_nearest_MRT  \n",
              "0                  10                   37.9                  1.928799  \n",
              "1                   9                   42.2                  2.486565  \n",
              "2                   5                   47.3                  2.749724  \n",
              "3                   5                   54.8                  2.749724  \n",
              "4                   5                   43.1                  2.591697  "
            ],
            "text/html": [
              "\n",
              "  <div id=\"df-dc45682f-602c-4273-a453-f2dbfae5e928\">\n",
              "    <div class=\"colab-df-container\">\n",
              "      <div>\n",
              "<style scoped>\n",
              "    .dataframe tbody tr th:only-of-type {\n",
              "        vertical-align: middle;\n",
              "    }\n",
              "\n",
              "    .dataframe tbody tr th {\n",
              "        vertical-align: top;\n",
              "    }\n",
              "\n",
              "    .dataframe thead th {\n",
              "        text-align: right;\n",
              "    }\n",
              "</style>\n",
              "<table border=\"1\" class=\"dataframe\">\n",
              "  <thead>\n",
              "    <tr style=\"text-align: right;\">\n",
              "      <th></th>\n",
              "      <th>transaction_date</th>\n",
              "      <th>house_age</th>\n",
              "      <th>distance_nearest_MRT_station</th>\n",
              "      <th>convenience_stores</th>\n",
              "      <th>house_price_unit_area</th>\n",
              "      <th>log_distance_nearest_MRT</th>\n",
              "    </tr>\n",
              "  </thead>\n",
              "  <tbody>\n",
              "    <tr>\n",
              "      <th>0</th>\n",
              "      <td>2012.917</td>\n",
              "      <td>32.0</td>\n",
              "      <td>84.87882</td>\n",
              "      <td>10</td>\n",
              "      <td>37.9</td>\n",
              "      <td>1.928799</td>\n",
              "    </tr>\n",
              "    <tr>\n",
              "      <th>1</th>\n",
              "      <td>2012.917</td>\n",
              "      <td>19.5</td>\n",
              "      <td>306.59470</td>\n",
              "      <td>9</td>\n",
              "      <td>42.2</td>\n",
              "      <td>2.486565</td>\n",
              "    </tr>\n",
              "    <tr>\n",
              "      <th>2</th>\n",
              "      <td>2013.583</td>\n",
              "      <td>13.3</td>\n",
              "      <td>561.98450</td>\n",
              "      <td>5</td>\n",
              "      <td>47.3</td>\n",
              "      <td>2.749724</td>\n",
              "    </tr>\n",
              "    <tr>\n",
              "      <th>3</th>\n",
              "      <td>2013.500</td>\n",
              "      <td>13.3</td>\n",
              "      <td>561.98450</td>\n",
              "      <td>5</td>\n",
              "      <td>54.8</td>\n",
              "      <td>2.749724</td>\n",
              "    </tr>\n",
              "    <tr>\n",
              "      <th>4</th>\n",
              "      <td>2012.833</td>\n",
              "      <td>5.0</td>\n",
              "      <td>390.56840</td>\n",
              "      <td>5</td>\n",
              "      <td>43.1</td>\n",
              "      <td>2.591697</td>\n",
              "    </tr>\n",
              "  </tbody>\n",
              "</table>\n",
              "</div>\n",
              "      <button class=\"colab-df-convert\" onclick=\"convertToInteractive('df-dc45682f-602c-4273-a453-f2dbfae5e928')\"\n",
              "              title=\"Convert this dataframe to an interactive table.\"\n",
              "              style=\"display:none;\">\n",
              "        \n",
              "  <svg xmlns=\"http://www.w3.org/2000/svg\" height=\"24px\"viewBox=\"0 0 24 24\"\n",
              "       width=\"24px\">\n",
              "    <path d=\"M0 0h24v24H0V0z\" fill=\"none\"/>\n",
              "    <path d=\"M18.56 5.44l.94 2.06.94-2.06 2.06-.94-2.06-.94-.94-2.06-.94 2.06-2.06.94zm-11 1L8.5 8.5l.94-2.06 2.06-.94-2.06-.94L8.5 2.5l-.94 2.06-2.06.94zm10 10l.94 2.06.94-2.06 2.06-.94-2.06-.94-.94-2.06-.94 2.06-2.06.94z\"/><path d=\"M17.41 7.96l-1.37-1.37c-.4-.4-.92-.59-1.43-.59-.52 0-1.04.2-1.43.59L10.3 9.45l-7.72 7.72c-.78.78-.78 2.05 0 2.83L4 21.41c.39.39.9.59 1.41.59.51 0 1.02-.2 1.41-.59l7.78-7.78 2.81-2.81c.8-.78.8-2.07 0-2.86zM5.41 20L4 18.59l7.72-7.72 1.47 1.35L5.41 20z\"/>\n",
              "  </svg>\n",
              "      </button>\n",
              "      \n",
              "  <style>\n",
              "    .colab-df-container {\n",
              "      display:flex;\n",
              "      flex-wrap:wrap;\n",
              "      gap: 12px;\n",
              "    }\n",
              "\n",
              "    .colab-df-convert {\n",
              "      background-color: #E8F0FE;\n",
              "      border: none;\n",
              "      border-radius: 50%;\n",
              "      cursor: pointer;\n",
              "      display: none;\n",
              "      fill: #1967D2;\n",
              "      height: 32px;\n",
              "      padding: 0 0 0 0;\n",
              "      width: 32px;\n",
              "    }\n",
              "\n",
              "    .colab-df-convert:hover {\n",
              "      background-color: #E2EBFA;\n",
              "      box-shadow: 0px 1px 2px rgba(60, 64, 67, 0.3), 0px 1px 3px 1px rgba(60, 64, 67, 0.15);\n",
              "      fill: #174EA6;\n",
              "    }\n",
              "\n",
              "    [theme=dark] .colab-df-convert {\n",
              "      background-color: #3B4455;\n",
              "      fill: #D2E3FC;\n",
              "    }\n",
              "\n",
              "    [theme=dark] .colab-df-convert:hover {\n",
              "      background-color: #434B5C;\n",
              "      box-shadow: 0px 1px 3px 1px rgba(0, 0, 0, 0.15);\n",
              "      filter: drop-shadow(0px 1px 2px rgba(0, 0, 0, 0.3));\n",
              "      fill: #FFFFFF;\n",
              "    }\n",
              "  </style>\n",
              "\n",
              "      <script>\n",
              "        const buttonEl =\n",
              "          document.querySelector('#df-dc45682f-602c-4273-a453-f2dbfae5e928 button.colab-df-convert');\n",
              "        buttonEl.style.display =\n",
              "          google.colab.kernel.accessAllowed ? 'block' : 'none';\n",
              "\n",
              "        async function convertToInteractive(key) {\n",
              "          const element = document.querySelector('#df-dc45682f-602c-4273-a453-f2dbfae5e928');\n",
              "          const dataTable =\n",
              "            await google.colab.kernel.invokeFunction('convertToInteractive',\n",
              "                                                     [key], {});\n",
              "          if (!dataTable) return;\n",
              "\n",
              "          const docLinkHtml = 'Like what you see? Visit the ' +\n",
              "            '<a target=\"_blank\" href=https://colab.research.google.com/notebooks/data_table.ipynb>data table notebook</a>'\n",
              "            + ' to learn more about interactive tables.';\n",
              "          element.innerHTML = '';\n",
              "          dataTable['output_type'] = 'display_data';\n",
              "          await google.colab.output.renderOutput(dataTable, element);\n",
              "          const docLink = document.createElement('div');\n",
              "          docLink.innerHTML = docLinkHtml;\n",
              "          element.appendChild(docLink);\n",
              "        }\n",
              "      </script>\n",
              "    </div>\n",
              "  </div>\n",
              "  "
            ]
          },
          "metadata": {},
          "execution_count": 5
        }
      ]
    },
    {
      "cell_type": "markdown",
      "source": [
        "Standardize your feature and target data (setting their mean to 0 and standard deviation to 1)"
      ],
      "metadata": {
        "id": "RK2zIVwAVSlx"
      }
    },
    {
      "cell_type": "code",
      "source": [
        "features=RealEstate[\"log_distance_nearest_MRT\"]\n",
        "target=RealEstate[\"house_price_unit_area\"]"
      ],
      "metadata": {
        "id": "vqiG7rTTDP6Q"
      },
      "execution_count": 6,
      "outputs": []
    },
    {
      "cell_type": "code",
      "source": [
        "#standardization\n",
        "#array_s=(array-mean)/standard_deviation"
      ],
      "metadata": {
        "id": "jB3pZZ72Dys6"
      },
      "execution_count": 7,
      "outputs": []
    },
    {
      "cell_type": "code",
      "source": [
        "# -- your code here\n",
        "features_s=(features-features.mean())/features.std()\n",
        "target_s=(target-target.mean())/target.std()"
      ],
      "metadata": {
        "id": "rryGybFQFDja"
      },
      "execution_count": 8,
      "outputs": []
    },
    {
      "cell_type": "markdown",
      "source": [
        "Using the code library of your choice, fit a linear regression model to the data"
      ],
      "metadata": {
        "id": "RYDBgtWMVlSg"
      }
    },
    {
      "cell_type": "code",
      "source": [
        "import statsmodels.api as sm"
      ],
      "metadata": {
        "id": "XDVfe1tCD9X5"
      },
      "execution_count": 9,
      "outputs": []
    },
    {
      "cell_type": "code",
      "source": [
        "X=sm.add_constant(features_s)\n",
        "y = target_s"
      ],
      "metadata": {
        "id": "4OddnQarECmB",
        "colab": {
          "base_uri": "https://localhost:8080/"
        },
        "outputId": "3194d061-4507-4082-a627-b4fab0d98bff"
      },
      "execution_count": 10,
      "outputs": [
        {
          "output_type": "stream",
          "name": "stderr",
          "text": [
            "/usr/local/lib/python3.7/dist-packages/statsmodels/tsa/tsatools.py:142: FutureWarning: In a future version of pandas all arguments of concat except for the argument 'objs' will be keyword-only\n",
            "  x = pd.concat(x[::order], 1)\n"
          ]
        }
      ]
    },
    {
      "cell_type": "code",
      "source": [
        "# -- your code here\n",
        "simplemodel = sm.OLS(endog=y,exog=X).fit()\n",
        "print(simplemodel.summary())"
      ],
      "metadata": {
        "id": "p_x1r6JYVksb",
        "colab": {
          "base_uri": "https://localhost:8080/"
        },
        "outputId": "1508fae0-8925-447a-d52b-811a9a465ca0"
      },
      "execution_count": 11,
      "outputs": [
        {
          "output_type": "stream",
          "name": "stdout",
          "text": [
            "                              OLS Regression Results                             \n",
            "=================================================================================\n",
            "Dep. Variable:     house_price_unit_area   R-squared:                       0.539\n",
            "Model:                               OLS   Adj. R-squared:                  0.538\n",
            "Method:                    Least Squares   F-statistic:                     482.2\n",
            "Date:                   Sat, 22 Oct 2022   Prob (F-statistic):           2.52e-71\n",
            "Time:                           21:40:15   Log-Likelihood:                -426.53\n",
            "No. Observations:                    414   AIC:                             857.1\n",
            "Df Residuals:                        412   BIC:                             865.1\n",
            "Df Model:                              1                                         \n",
            "Covariance Type:               nonrobust                                         \n",
            "============================================================================================\n",
            "                               coef    std err          t      P>|t|      [0.025      0.975]\n",
            "--------------------------------------------------------------------------------------------\n",
            "const                     1.119e-16      0.033   3.35e-15      1.000      -0.066       0.066\n",
            "log_distance_nearest_MRT    -0.7343      0.033    -21.959      0.000      -0.800      -0.669\n",
            "==============================================================================\n",
            "Omnibus:                      178.772   Durbin-Watson:                   2.109\n",
            "Prob(Omnibus):                  0.000   Jarque-Bera (JB):             1764.720\n",
            "Skew:                           1.566   Prob(JB):                         0.00\n",
            "Kurtosis:                      12.617   Cond. No.                         1.00\n",
            "==============================================================================\n",
            "\n",
            "Notes:\n",
            "[1] Standard Errors assume that the covariance matrix of the errors is correctly specified.\n"
          ]
        }
      ]
    },
    {
      "cell_type": "markdown",
      "source": [
        "Print both the $R^2$ and Adjusted-$R^2$ of this model \n",
        "\n",
        "(+1 bonus point for using the `.format()` method in `print` to show the two values and round them to 3 decimal places)"
      ],
      "metadata": {
        "id": "k_hktZmTVs6m"
      }
    },
    {
      "cell_type": "code",
      "source": [
        "# -- your code here\n",
        "print (\"r2= %.3f\" % simplemodel.rsquared)\n",
        "print (\"adjusted-r2 = %.3f\" %simplemodel.rsquared_adj)"
      ],
      "metadata": {
        "colab": {
          "base_uri": "https://localhost:8080/"
        },
        "id": "WIWsXaPKVdTr",
        "outputId": "1ee91ae5-d766-4c3b-eb32-3f7827b74a4f"
      },
      "execution_count": 12,
      "outputs": [
        {
          "output_type": "stream",
          "name": "stdout",
          "text": [
            "r2= 0.539\n",
            "adjusted-r2 = 0.538\n"
          ]
        }
      ]
    },
    {
      "cell_type": "markdown",
      "source": [
        "Print the coefficient (slope) of the line"
      ],
      "metadata": {
        "id": "6spcmbZ-XQhs"
      }
    },
    {
      "cell_type": "code",
      "source": [
        "# -- your code here\n",
        "print (\"coefficient = %.3f\" %simplemodel.params['log_distance_nearest_MRT'])"
      ],
      "metadata": {
        "colab": {
          "base_uri": "https://localhost:8080/"
        },
        "id": "aCKHU3o-VdjC",
        "outputId": "caea1b7e-0144-43ac-f7ba-14e53aaeb0a7"
      },
      "execution_count": 13,
      "outputs": [
        {
          "output_type": "stream",
          "name": "stdout",
          "text": [
            "coefficient = -0.734\n"
          ]
        }
      ]
    },
    {
      "cell_type": "markdown",
      "source": [
        "From looking at the coefficient, what can you say about the relationship between the feature (the distance to the nearest MRT station) and the target (the house price/unit area)?"
      ],
      "metadata": {
        "id": "EYs3arrqePbn"
      }
    },
    {
      "cell_type": "markdown",
      "source": [
        "*Seeing as the coefficient is negative, we can say that there exists a negative relationship between the feature and the target. That is to say that as the distance to the nearest MRT (our feature) increases , then the house price/unit area(our target) increases.*"
      ],
      "metadata": {
        "id": "gBsZRNV3ePV5"
      }
    },
    {
      "cell_type": "code",
      "source": [
        "ypred = simplemodel.predict(X)\n",
        "print(ypred)"
      ],
      "metadata": {
        "colab": {
          "base_uri": "https://localhost:8080/"
        },
        "id": "Nc-WSqSWVn0I",
        "outputId": "b4cfbf76-6d2f-4dd2-ecc1-3b4913f702ae"
      },
      "execution_count": 14,
      "outputs": [
        {
          "output_type": "stream",
          "name": "stdout",
          "text": [
            "0      1.279187\n",
            "1      0.436904\n",
            "2      0.039505\n",
            "3      0.039505\n",
            "4      0.278143\n",
            "         ...   \n",
            "409   -1.260920\n",
            "410    1.237450\n",
            "411    0.277470\n",
            "412    1.140856\n",
            "413    1.237450\n",
            "Length: 414, dtype: float64\n"
          ]
        }
      ]
    },
    {
      "cell_type": "code",
      "source": [
        "RealEstate[\"ypred\"]=simplemodel.predict(X)\n",
        "RealEstate.head()"
      ],
      "metadata": {
        "id": "swj8OtYaVwK4",
        "colab": {
          "base_uri": "https://localhost:8080/",
          "height": 206
        },
        "outputId": "fbbc08e2-c6e7-4dcd-9cf0-3dbe976a38f4"
      },
      "execution_count": 15,
      "outputs": [
        {
          "output_type": "execute_result",
          "data": {
            "text/plain": [
              "   transaction_date  house_age  distance_nearest_MRT_station  \\\n",
              "0          2012.917       32.0                      84.87882   \n",
              "1          2012.917       19.5                     306.59470   \n",
              "2          2013.583       13.3                     561.98450   \n",
              "3          2013.500       13.3                     561.98450   \n",
              "4          2012.833        5.0                     390.56840   \n",
              "\n",
              "   convenience_stores  house_price_unit_area  log_distance_nearest_MRT  \\\n",
              "0                  10                   37.9                  1.928799   \n",
              "1                   9                   42.2                  2.486565   \n",
              "2                   5                   47.3                  2.749724   \n",
              "3                   5                   54.8                  2.749724   \n",
              "4                   5                   43.1                  2.591697   \n",
              "\n",
              "      ypred  \n",
              "0  1.279187  \n",
              "1  0.436904  \n",
              "2  0.039505  \n",
              "3  0.039505  \n",
              "4  0.278143  "
            ],
            "text/html": [
              "\n",
              "  <div id=\"df-bf901cc5-9b5a-4b25-a773-ddba7daaacf2\">\n",
              "    <div class=\"colab-df-container\">\n",
              "      <div>\n",
              "<style scoped>\n",
              "    .dataframe tbody tr th:only-of-type {\n",
              "        vertical-align: middle;\n",
              "    }\n",
              "\n",
              "    .dataframe tbody tr th {\n",
              "        vertical-align: top;\n",
              "    }\n",
              "\n",
              "    .dataframe thead th {\n",
              "        text-align: right;\n",
              "    }\n",
              "</style>\n",
              "<table border=\"1\" class=\"dataframe\">\n",
              "  <thead>\n",
              "    <tr style=\"text-align: right;\">\n",
              "      <th></th>\n",
              "      <th>transaction_date</th>\n",
              "      <th>house_age</th>\n",
              "      <th>distance_nearest_MRT_station</th>\n",
              "      <th>convenience_stores</th>\n",
              "      <th>house_price_unit_area</th>\n",
              "      <th>log_distance_nearest_MRT</th>\n",
              "      <th>ypred</th>\n",
              "    </tr>\n",
              "  </thead>\n",
              "  <tbody>\n",
              "    <tr>\n",
              "      <th>0</th>\n",
              "      <td>2012.917</td>\n",
              "      <td>32.0</td>\n",
              "      <td>84.87882</td>\n",
              "      <td>10</td>\n",
              "      <td>37.9</td>\n",
              "      <td>1.928799</td>\n",
              "      <td>1.279187</td>\n",
              "    </tr>\n",
              "    <tr>\n",
              "      <th>1</th>\n",
              "      <td>2012.917</td>\n",
              "      <td>19.5</td>\n",
              "      <td>306.59470</td>\n",
              "      <td>9</td>\n",
              "      <td>42.2</td>\n",
              "      <td>2.486565</td>\n",
              "      <td>0.436904</td>\n",
              "    </tr>\n",
              "    <tr>\n",
              "      <th>2</th>\n",
              "      <td>2013.583</td>\n",
              "      <td>13.3</td>\n",
              "      <td>561.98450</td>\n",
              "      <td>5</td>\n",
              "      <td>47.3</td>\n",
              "      <td>2.749724</td>\n",
              "      <td>0.039505</td>\n",
              "    </tr>\n",
              "    <tr>\n",
              "      <th>3</th>\n",
              "      <td>2013.500</td>\n",
              "      <td>13.3</td>\n",
              "      <td>561.98450</td>\n",
              "      <td>5</td>\n",
              "      <td>54.8</td>\n",
              "      <td>2.749724</td>\n",
              "      <td>0.039505</td>\n",
              "    </tr>\n",
              "    <tr>\n",
              "      <th>4</th>\n",
              "      <td>2012.833</td>\n",
              "      <td>5.0</td>\n",
              "      <td>390.56840</td>\n",
              "      <td>5</td>\n",
              "      <td>43.1</td>\n",
              "      <td>2.591697</td>\n",
              "      <td>0.278143</td>\n",
              "    </tr>\n",
              "  </tbody>\n",
              "</table>\n",
              "</div>\n",
              "      <button class=\"colab-df-convert\" onclick=\"convertToInteractive('df-bf901cc5-9b5a-4b25-a773-ddba7daaacf2')\"\n",
              "              title=\"Convert this dataframe to an interactive table.\"\n",
              "              style=\"display:none;\">\n",
              "        \n",
              "  <svg xmlns=\"http://www.w3.org/2000/svg\" height=\"24px\"viewBox=\"0 0 24 24\"\n",
              "       width=\"24px\">\n",
              "    <path d=\"M0 0h24v24H0V0z\" fill=\"none\"/>\n",
              "    <path d=\"M18.56 5.44l.94 2.06.94-2.06 2.06-.94-2.06-.94-.94-2.06-.94 2.06-2.06.94zm-11 1L8.5 8.5l.94-2.06 2.06-.94-2.06-.94L8.5 2.5l-.94 2.06-2.06.94zm10 10l.94 2.06.94-2.06 2.06-.94-2.06-.94-.94-2.06-.94 2.06-2.06.94z\"/><path d=\"M17.41 7.96l-1.37-1.37c-.4-.4-.92-.59-1.43-.59-.52 0-1.04.2-1.43.59L10.3 9.45l-7.72 7.72c-.78.78-.78 2.05 0 2.83L4 21.41c.39.39.9.59 1.41.59.51 0 1.02-.2 1.41-.59l7.78-7.78 2.81-2.81c.8-.78.8-2.07 0-2.86zM5.41 20L4 18.59l7.72-7.72 1.47 1.35L5.41 20z\"/>\n",
              "  </svg>\n",
              "      </button>\n",
              "      \n",
              "  <style>\n",
              "    .colab-df-container {\n",
              "      display:flex;\n",
              "      flex-wrap:wrap;\n",
              "      gap: 12px;\n",
              "    }\n",
              "\n",
              "    .colab-df-convert {\n",
              "      background-color: #E8F0FE;\n",
              "      border: none;\n",
              "      border-radius: 50%;\n",
              "      cursor: pointer;\n",
              "      display: none;\n",
              "      fill: #1967D2;\n",
              "      height: 32px;\n",
              "      padding: 0 0 0 0;\n",
              "      width: 32px;\n",
              "    }\n",
              "\n",
              "    .colab-df-convert:hover {\n",
              "      background-color: #E2EBFA;\n",
              "      box-shadow: 0px 1px 2px rgba(60, 64, 67, 0.3), 0px 1px 3px 1px rgba(60, 64, 67, 0.15);\n",
              "      fill: #174EA6;\n",
              "    }\n",
              "\n",
              "    [theme=dark] .colab-df-convert {\n",
              "      background-color: #3B4455;\n",
              "      fill: #D2E3FC;\n",
              "    }\n",
              "\n",
              "    [theme=dark] .colab-df-convert:hover {\n",
              "      background-color: #434B5C;\n",
              "      box-shadow: 0px 1px 3px 1px rgba(0, 0, 0, 0.15);\n",
              "      filter: drop-shadow(0px 1px 2px rgba(0, 0, 0, 0.3));\n",
              "      fill: #FFFFFF;\n",
              "    }\n",
              "  </style>\n",
              "\n",
              "      <script>\n",
              "        const buttonEl =\n",
              "          document.querySelector('#df-bf901cc5-9b5a-4b25-a773-ddba7daaacf2 button.colab-df-convert');\n",
              "        buttonEl.style.display =\n",
              "          google.colab.kernel.accessAllowed ? 'block' : 'none';\n",
              "\n",
              "        async function convertToInteractive(key) {\n",
              "          const element = document.querySelector('#df-bf901cc5-9b5a-4b25-a773-ddba7daaacf2');\n",
              "          const dataTable =\n",
              "            await google.colab.kernel.invokeFunction('convertToInteractive',\n",
              "                                                     [key], {});\n",
              "          if (!dataTable) return;\n",
              "\n",
              "          const docLinkHtml = 'Like what you see? Visit the ' +\n",
              "            '<a target=\"_blank\" href=https://colab.research.google.com/notebooks/data_table.ipynb>data table notebook</a>'\n",
              "            + ' to learn more about interactive tables.';\n",
              "          element.innerHTML = '';\n",
              "          dataTable['output_type'] = 'display_data';\n",
              "          await google.colab.output.renderOutput(dataTable, element);\n",
              "          const docLink = document.createElement('div');\n",
              "          docLink.innerHTML = docLinkHtml;\n",
              "          element.appendChild(docLink);\n",
              "        }\n",
              "      </script>\n",
              "    </div>\n",
              "  </div>\n",
              "  "
            ]
          },
          "metadata": {},
          "execution_count": 15
        }
      ]
    },
    {
      "cell_type": "markdown",
      "source": [
        "Plot the actual vs. model predicted values for the house price/unit area for all log10(distance to MRT station) values in the data"
      ],
      "metadata": {
        "id": "MHqiI52lXvSr"
      }
    },
    {
      "cell_type": "code",
      "source": [
        "RealEstate.plot(\"house_price_unit_area\", \"ypred\", kind=\"scatter\");"
      ],
      "metadata": {
        "colab": {
          "base_uri": "https://localhost:8080/",
          "height": 280
        },
        "id": "MmwjiJTxRSth",
        "outputId": "c4c0f58f-4d28-4462-fb45-5e2653acdcf2"
      },
      "execution_count": 16,
      "outputs": [
        {
          "output_type": "display_data",
          "data": {
            "text/plain": [
              "<Figure size 432x288 with 1 Axes>"
            ],
            "image/png": "[encoded data removed]"
          },
          "metadata": {
            "needs_background": "light"
          }
        }
      ]
    },
    {
      "cell_type": "code",
      "source": [
        "RealEstate[\"house_price_unit_area_s\"]=target_s"
      ],
      "metadata": {
        "id": "Q8D7IKQ9W3QC"
      },
      "execution_count": 17,
      "outputs": []
    },
    {
      "cell_type": "code",
      "source": [
        "# -- your code here\n",
        "RealEstate.plot(\"house_price_unit_area_s\", \"ypred\", kind=\"scatter\");"
      ],
      "metadata": {
        "colab": {
          "base_uri": "https://localhost:8080/",
          "height": 280
        },
        "id": "fBhXU2NvXhw1",
        "outputId": "3a9bdef8-9477-4937-d693-613777919fc3"
      },
      "execution_count": 18,
      "outputs": [
        {
          "output_type": "display_data",
          "data": {
            "text/plain": [
              "<Figure size 432x288 with 1 Axes>"
            ],
            "image/png": "[encoded data removed]"
          },
          "metadata": {
            "needs_background": "light"
          }
        }
      ]
    },
    {
      "cell_type": "markdown",
      "source": [
        "This is a plot of the values of the model's predicted house price per unit area against the actual house prices per unit area. Although there is an obvious variance with the points(the points are far apart and are scattered), from the general direction of movement of the points (moving upward from left to right), we can tell that this graph has a positive slope.\n"
      ],
      "metadata": {
        "id": "ImZsXi5Ch33I"
      }
    },
    {
      "cell_type": "markdown",
      "source": [
        "## Task 2: multiple linear regression (all variables)\n",
        "\n",
        "create a multiple regression model that utilizes all features to predict the house price/unit area, and find the model's metrics ($R^2$ and Adjusted-$R^2$), as well as the the coeffient for each variable.\n",
        "\n",
        "---"
      ],
      "metadata": {
        "id": "iFAO4QfCbgGN"
      }
    },
    {
      "cell_type": "code",
      "source": [
        "features2=RealEstate[[\"log_distance_nearest_MRT\",\"convenience_stores\",\"transaction_date\",\"house_age\"]]\n",
        "target2=RealEstate[\"house_price_unit_area\"]"
      ],
      "metadata": {
        "id": "lhzkPhYCZipU"
      },
      "execution_count": 19,
      "outputs": []
    },
    {
      "cell_type": "code",
      "source": [
        "#standardization\n",
        "#array_s=(array-mean)/standard_deviation"
      ],
      "metadata": {
        "id": "BhPP-AlYZkmG"
      },
      "execution_count": 20,
      "outputs": []
    },
    {
      "cell_type": "markdown",
      "source": [
        "Make sure all your features and target columns are standardized, and that you are using all the features in the data frame (also make sure to use ```log10(distance_nearest_MRT_station)``` rather than ```distance_nearest_MRT_station``` as a feature)"
      ],
      "metadata": {
        "id": "PT2-ClOFcXjQ"
      }
    },
    {
      "cell_type": "code",
      "source": [
        "# -- your code here\n",
        "features2_s=(features2-features2.mean())/features2.std()\n",
        "target2_s=(target2-target2.mean())/target2.std()"
      ],
      "metadata": {
        "id": "qc0keSNZZ4Zu"
      },
      "execution_count": 21,
      "outputs": []
    },
    {
      "cell_type": "markdown",
      "source": [
        "Using the code library of your choice, fit a multiple linear regression model to the data"
      ],
      "metadata": {
        "id": "sSYvBMkXcxjx"
      }
    },
    {
      "cell_type": "code",
      "source": [
        "# -- your code here\n",
        "X=sm.add_constant(features2_s)\n",
        "y = target2_s\n",
        "model2= sm.OLS(endog=y,exog=X).fit()\n",
        "print(model2.summary())"
      ],
      "metadata": {
        "id": "_EPrB-FdZ4cE",
        "colab": {
          "base_uri": "https://localhost:8080/"
        },
        "outputId": "f1b3bcc4-8ee2-4a43-b410-703662462ac8"
      },
      "execution_count": 22,
      "outputs": [
        {
          "output_type": "stream",
          "name": "stdout",
          "text": [
            "                              OLS Regression Results                             \n",
            "=================================================================================\n",
            "Dep. Variable:     house_price_unit_area   R-squared:                       0.601\n",
            "Model:                               OLS   Adj. R-squared:                  0.597\n",
            "Method:                    Least Squares   F-statistic:                     154.2\n",
            "Date:                   Sat, 22 Oct 2022   Prob (F-statistic):           2.72e-80\n",
            "Time:                           21:40:17   Log-Likelihood:                -396.62\n",
            "No. Observations:                    414   AIC:                             803.2\n",
            "Df Residuals:                        409   BIC:                             823.4\n",
            "Df Model:                              4                                         \n",
            "Covariance Type:               nonrobust                                         \n",
            "============================================================================================\n",
            "                               coef    std err          t      P>|t|      [0.025      0.975]\n",
            "--------------------------------------------------------------------------------------------\n",
            "const                    -5.632e-14      0.031  -1.81e-12      1.000      -0.061       0.061\n",
            "log_distance_nearest_MRT    -0.6431      0.044    -14.697      0.000      -0.729      -0.557\n",
            "convenience_stores           0.1375      0.044      3.160      0.002       0.052       0.223\n",
            "transaction_date             0.1521      0.032      4.822      0.000       0.090       0.214\n",
            "house_age                   -0.1768      0.032     -5.599      0.000      -0.239      -0.115\n",
            "==============================================================================\n",
            "Omnibus:                      222.884   Durbin-Watson:                   2.091\n",
            "Prob(Omnibus):                  0.000   Jarque-Bera (JB):             3251.894\n",
            "Skew:                           1.942   Prob(JB):                         0.00\n",
            "Kurtosis:                      16.169   Cond. No.                         2.39\n",
            "==============================================================================\n",
            "\n",
            "Notes:\n",
            "[1] Standard Errors assume that the covariance matrix of the errors is correctly specified.\n"
          ]
        },
        {
          "output_type": "stream",
          "name": "stderr",
          "text": [
            "/usr/local/lib/python3.7/dist-packages/statsmodels/tsa/tsatools.py:142: FutureWarning: In a future version of pandas all arguments of concat except for the argument 'objs' will be keyword-only\n",
            "  x = pd.concat(x[::order], 1)\n"
          ]
        }
      ]
    },
    {
      "cell_type": "markdown",
      "source": [
        "Print the coefficients of each of the features"
      ],
      "metadata": {
        "id": "tlAbv9Gpc5Vz"
      }
    },
    {
      "cell_type": "code",
      "source": [
        "# -- your code here\n",
        "print (\"coefficient for log_dist_MRT = %.3f\" %model2.params['log_distance_nearest_MRT'])\n",
        "print (\"coefficient for convenience_stores= %.3f\" %model2.params['convenience_stores'])\n",
        "print (\"coefficient for transaction_date= %.3f\" %model2.params['transaction_date'])\n",
        "print (\"coefficient for house_age = %.3f\" %model2.params['house_age'])"
      ],
      "metadata": {
        "colab": {
          "base_uri": "https://localhost:8080/"
        },
        "id": "IQtGO6lcZ4eF",
        "outputId": "120b3adc-ad07-4340-e2e7-dbe60275c203"
      },
      "execution_count": 23,
      "outputs": [
        {
          "output_type": "stream",
          "name": "stdout",
          "text": [
            "coefficient for log_dist_MRT = -0.643\n",
            "coefficient for convenience_stores= 0.137\n",
            "coefficient for transaction_date= 0.152\n",
            "coefficient for house_age = -0.177\n"
          ]
        }
      ]
    },
    {
      "cell_type": "markdown",
      "source": [
        "What can you claim about the relative correlation and influence of each feature on the prediction of the target variable?"
      ],
      "metadata": {
        "id": "d5doqy3rdHLW"
      }
    },
    {
      "cell_type": "markdown",
      "source": [
        "*The coefficients of each individual feature are not very large. The highest coeeficient is 0.152. This means that each feature has a minimal influence on the target variable, and that there is also little to no correlation between the features and the target.*"
      ],
      "metadata": {
        "id": "X63QO1tAdIgF"
      }
    },
    {
      "cell_type": "markdown",
      "source": [
        "Print the $R^2$ of this model"
      ],
      "metadata": {
        "id": "X8K0ZhrMdLcG"
      }
    },
    {
      "cell_type": "code",
      "source": [
        "# -- your code here\n",
        "print (\"r2= %.3f\" % model2.rsquared)"
      ],
      "metadata": {
        "colab": {
          "base_uri": "https://localhost:8080/"
        },
        "id": "9Qc4BC8BVdy9",
        "outputId": "58ad0dd5-3d0a-4dbf-abf8-3e7156f6aacd"
      },
      "execution_count": 24,
      "outputs": [
        {
          "output_type": "stream",
          "name": "stdout",
          "text": [
            "r2= 0.601\n"
          ]
        }
      ]
    },
    {
      "cell_type": "markdown",
      "source": [
        "Looking only at the $R^2$ scores for this model relative to the previous model in Task 1, would you say the model has improved with the addition of the remaining features or not? and Why?"
      ],
      "metadata": {
        "id": "7P5iogz_dSfD"
      }
    },
    {
      "cell_type": "markdown",
      "source": [
        "*Yes, the R-SQUARED for this model is better than that of the firstmodel, because it is higher.And the higher the R-SQUARED, the better the model fits your data.*"
      ],
      "metadata": {
        "id": "sMUCOhQOdXaE"
      }
    },
    {
      "cell_type": "markdown",
      "source": [
        "Print the Adjusted-$R^2$ of this model"
      ],
      "metadata": {
        "id": "zMWT8U7mdY0p"
      }
    },
    {
      "cell_type": "code",
      "source": [
        "# -- your code here\n",
        "print (\"adjusted-r2 = %.3f\" %model2.rsquared_adj)"
      ],
      "metadata": {
        "colab": {
          "base_uri": "https://localhost:8080/"
        },
        "id": "tvV_wPfKVd1f",
        "outputId": "7a5de7af-ccee-4c7c-d2b9-5fab5d68ec7a"
      },
      "execution_count": 25,
      "outputs": [
        {
          "output_type": "stream",
          "name": "stdout",
          "text": [
            "adjusted-r2 = 0.597\n"
          ]
        }
      ]
    },
    {
      "cell_type": "markdown",
      "source": [
        "Looking at both $R^2$ and Ajusted-$R^2$ scores for this model relative to the previous model in Task 1, would you say the model has improved with the addition of the remaining features or not? and Why?"
      ],
      "metadata": {
        "id": "xCpFXai6dkpL"
      }
    },
    {
      "cell_type": "markdown",
      "source": [
        "*The adjusted Rsquared for this model is also higher than that of the first one. This is another indicaator that it is a better fit for our data.\n",
        "   Because of this, I can say that the model has improved with the addition of the remaining features.*"
      ],
      "metadata": {
        "id": "4BO8fq6odqrA"
      }
    },
    {
      "cell_type": "code",
      "source": [
        "RealEstate[\"ypred2\"]=model2.predict(X)\n",
        "RealEstate.head()"
      ],
      "metadata": {
        "colab": {
          "base_uri": "https://localhost:8080/",
          "height": 206
        },
        "id": "CtMvztX_e61d",
        "outputId": "05893536-8acb-48c0-e7bd-711f792b26c0"
      },
      "execution_count": 26,
      "outputs": [
        {
          "output_type": "execute_result",
          "data": {
            "text/plain": [
              "   transaction_date  house_age  distance_nearest_MRT_station  \\\n",
              "0          2012.917       32.0                      84.87882   \n",
              "1          2012.917       19.5                     306.59470   \n",
              "2          2013.583       13.3                     561.98450   \n",
              "3          2013.500       13.3                     561.98450   \n",
              "4          2012.833        5.0                     390.56840   \n",
              "\n",
              "   convenience_stores  house_price_unit_area  log_distance_nearest_MRT  \\\n",
              "0                  10                   37.9                  1.928799   \n",
              "1                   9                   42.2                  2.486565   \n",
              "2                   5                   47.3                  2.749724   \n",
              "3                   5                   54.8                  2.749724   \n",
              "4                   5                   43.1                  2.591697   \n",
              "\n",
              "      ypred  house_price_unit_area_s    ypred2  \n",
              "0  1.279187                -0.005894  1.048997  \n",
              "1  0.436904                 0.310132  0.458673  \n",
              "2  0.039505                 0.684953  0.379497  \n",
              "3  0.039505                 1.236161  0.334718  \n",
              "4  0.278143                 0.376277  0.312620  "
            ],
            "text/html": [
              "\n",
              "  <div id=\"df-204da87d-d39e-4d6d-9165-a27daefbb3b9\">\n",
              "    <div class=\"colab-df-container\">\n",
              "      <div>\n",
              "<style scoped>\n",
              "    .dataframe tbody tr th:only-of-type {\n",
              "        vertical-align: middle;\n",
              "    }\n",
              "\n",
              "    .dataframe tbody tr th {\n",
              "        vertical-align: top;\n",
              "    }\n",
              "\n",
              "    .dataframe thead th {\n",
              "        text-align: right;\n",
              "    }\n",
              "</style>\n",
              "<table border=\"1\" class=\"dataframe\">\n",
              "  <thead>\n",
              "    <tr style=\"text-align: right;\">\n",
              "      <th></th>\n",
              "      <th>transaction_date</th>\n",
              "      <th>house_age</th>\n",
              "      <th>distance_nearest_MRT_station</th>\n",
              "      <th>convenience_stores</th>\n",
              "      <th>house_price_unit_area</th>\n",
              "      <th>log_distance_nearest_MRT</th>\n",
              "      <th>ypred</th>\n",
              "      <th>house_price_unit_area_s</th>\n",
              "      <th>ypred2</th>\n",
              "    </tr>\n",
              "  </thead>\n",
              "  <tbody>\n",
              "    <tr>\n",
              "      <th>0</th>\n",
              "      <td>2012.917</td>\n",
              "      <td>32.0</td>\n",
              "      <td>84.87882</td>\n",
              "      <td>10</td>\n",
              "      <td>37.9</td>\n",
              "      <td>1.928799</td>\n",
              "      <td>1.279187</td>\n",
              "      <td>-0.005894</td>\n",
              "      <td>1.048997</td>\n",
              "    </tr>\n",
              "    <tr>\n",
              "      <th>1</th>\n",
              "      <td>2012.917</td>\n",
              "      <td>19.5</td>\n",
              "      <td>306.59470</td>\n",
              "      <td>9</td>\n",
              "      <td>42.2</td>\n",
              "      <td>2.486565</td>\n",
              "      <td>0.436904</td>\n",
              "      <td>0.310132</td>\n",
              "      <td>0.458673</td>\n",
              "    </tr>\n",
              "    <tr>\n",
              "      <th>2</th>\n",
              "      <td>2013.583</td>\n",
              "      <td>13.3</td>\n",
              "      <td>561.98450</td>\n",
              "      <td>5</td>\n",
              "      <td>47.3</td>\n",
              "      <td>2.749724</td>\n",
              "      <td>0.039505</td>\n",
              "      <td>0.684953</td>\n",
              "      <td>0.379497</td>\n",
              "    </tr>\n",
              "    <tr>\n",
              "      <th>3</th>\n",
              "      <td>2013.500</td>\n",
              "      <td>13.3</td>\n",
              "      <td>561.98450</td>\n",
              "      <td>5</td>\n",
              "      <td>54.8</td>\n",
              "      <td>2.749724</td>\n",
              "      <td>0.039505</td>\n",
              "      <td>1.236161</td>\n",
              "      <td>0.334718</td>\n",
              "    </tr>\n",
              "    <tr>\n",
              "      <th>4</th>\n",
              "      <td>2012.833</td>\n",
              "      <td>5.0</td>\n",
              "      <td>390.56840</td>\n",
              "      <td>5</td>\n",
              "      <td>43.1</td>\n",
              "      <td>2.591697</td>\n",
              "      <td>0.278143</td>\n",
              "      <td>0.376277</td>\n",
              "      <td>0.312620</td>\n",
              "    </tr>\n",
              "  </tbody>\n",
              "</table>\n",
              "</div>\n",
              "      <button class=\"colab-df-convert\" onclick=\"convertToInteractive('df-204da87d-d39e-4d6d-9165-a27daefbb3b9')\"\n",
              "              title=\"Convert this dataframe to an interactive table.\"\n",
              "              style=\"display:none;\">\n",
              "        \n",
              "  <svg xmlns=\"http://www.w3.org/2000/svg\" height=\"24px\"viewBox=\"0 0 24 24\"\n",
              "       width=\"24px\">\n",
              "    <path d=\"M0 0h24v24H0V0z\" fill=\"none\"/>\n",
              "    <path d=\"M18.56 5.44l.94 2.06.94-2.06 2.06-.94-2.06-.94-.94-2.06-.94 2.06-2.06.94zm-11 1L8.5 8.5l.94-2.06 2.06-.94-2.06-.94L8.5 2.5l-.94 2.06-2.06.94zm10 10l.94 2.06.94-2.06 2.06-.94-2.06-.94-.94-2.06-.94 2.06-2.06.94z\"/><path d=\"M17.41 7.96l-1.37-1.37c-.4-.4-.92-.59-1.43-.59-.52 0-1.04.2-1.43.59L10.3 9.45l-7.72 7.72c-.78.78-.78 2.05 0 2.83L4 21.41c.39.39.9.59 1.41.59.51 0 1.02-.2 1.41-.59l7.78-7.78 2.81-2.81c.8-.78.8-2.07 0-2.86zM5.41 20L4 18.59l7.72-7.72 1.47 1.35L5.41 20z\"/>\n",
              "  </svg>\n",
              "      </button>\n",
              "      \n",
              "  <style>\n",
              "    .colab-df-container {\n",
              "      display:flex;\n",
              "      flex-wrap:wrap;\n",
              "      gap: 12px;\n",
              "    }\n",
              "\n",
              "    .colab-df-convert {\n",
              "      background-color: #E8F0FE;\n",
              "      border: none;\n",
              "      border-radius: 50%;\n",
              "      cursor: pointer;\n",
              "      display: none;\n",
              "      fill: #1967D2;\n",
              "      height: 32px;\n",
              "      padding: 0 0 0 0;\n",
              "      width: 32px;\n",
              "    }\n",
              "\n",
              "    .colab-df-convert:hover {\n",
              "      background-color: #E2EBFA;\n",
              "      box-shadow: 0px 1px 2px rgba(60, 64, 67, 0.3), 0px 1px 3px 1px rgba(60, 64, 67, 0.15);\n",
              "      fill: #174EA6;\n",
              "    }\n",
              "\n",
              "    [theme=dark] .colab-df-convert {\n",
              "      background-color: #3B4455;\n",
              "      fill: #D2E3FC;\n",
              "    }\n",
              "\n",
              "    [theme=dark] .colab-df-convert:hover {\n",
              "      background-color: #434B5C;\n",
              "      box-shadow: 0px 1px 3px 1px rgba(0, 0, 0, 0.15);\n",
              "      filter: drop-shadow(0px 1px 2px rgba(0, 0, 0, 0.3));\n",
              "      fill: #FFFFFF;\n",
              "    }\n",
              "  </style>\n",
              "\n",
              "      <script>\n",
              "        const buttonEl =\n",
              "          document.querySelector('#df-204da87d-d39e-4d6d-9165-a27daefbb3b9 button.colab-df-convert');\n",
              "        buttonEl.style.display =\n",
              "          google.colab.kernel.accessAllowed ? 'block' : 'none';\n",
              "\n",
              "        async function convertToInteractive(key) {\n",
              "          const element = document.querySelector('#df-204da87d-d39e-4d6d-9165-a27daefbb3b9');\n",
              "          const dataTable =\n",
              "            await google.colab.kernel.invokeFunction('convertToInteractive',\n",
              "                                                     [key], {});\n",
              "          if (!dataTable) return;\n",
              "\n",
              "          const docLinkHtml = 'Like what you see? Visit the ' +\n",
              "            '<a target=\"_blank\" href=https://colab.research.google.com/notebooks/data_table.ipynb>data table notebook</a>'\n",
              "            + ' to learn more about interactive tables.';\n",
              "          element.innerHTML = '';\n",
              "          dataTable['output_type'] = 'display_data';\n",
              "          await google.colab.output.renderOutput(dataTable, element);\n",
              "          const docLink = document.createElement('div');\n",
              "          docLink.innerHTML = docLinkHtml;\n",
              "          element.appendChild(docLink);\n",
              "        }\n",
              "      </script>\n",
              "    </div>\n",
              "  </div>\n",
              "  "
            ]
          },
          "metadata": {},
          "execution_count": 26
        }
      ]
    },
    {
      "cell_type": "markdown",
      "source": [
        "Plot the actual vs. model predicted values for the house price/unit area for all objects in the data. Is there any visible improvement in the quality of the prediction that you can claim from comparing this plot with the one from Task 2? "
      ],
      "metadata": {
        "id": "mgIAi9C9duLy"
      }
    },
    {
      "cell_type": "code",
      "source": [
        "# -- your code here\n",
        "RealEstate.plot(\"house_price_unit_area_s\", \"ypred2\", kind=\"scatter\");"
      ],
      "metadata": {
        "colab": {
          "base_uri": "https://localhost:8080/",
          "height": 280
        },
        "id": "JOwT7fmfVd3x",
        "outputId": "80e40b1c-42c0-4481-bd0e-287576f95be8"
      },
      "execution_count": 27,
      "outputs": [
        {
          "output_type": "display_data",
          "data": {
            "text/plain": [
              "<Figure size 432x288 with 1 Axes>"
            ],
            "image/png": "[encoded data removed]"
          },
          "metadata": {
            "needs_background": "light"
          }
        }
      ]
    },
    {
      "cell_type": "markdown",
      "source": [
        "Yes, there is an improvement. The points on this plot are less scattered and form a more linear shape than our first plot did. The points are visibly fitted better in this second plot."
      ],
      "metadata": {
        "id": "xiIHp8ImoNIx"
      }
    }
  ]
}